{
 "cells": [
  {
   "cell_type": "code",
   "execution_count": 1,
   "metadata": {},
   "outputs": [],
   "source": [
    "import pandas as pd\n",
    "import numpy as np\n",
    "from scipy.io import arff\n",
    "import os\n",
    "from sklearn import preprocessing\n",
    "from sklearn.preprocessing import LabelEncoder\n",
    "import scipy\n",
    "from sklearn.utils import shuffle\n",
    "from sklearn.model_selection import train_test_split\n",
    "from sklearn.metrics import accuracy_score\n",
    "from sklearn.preprocessing import StandardScaler\n",
    "from sklearn.decomposition import PCA\n",
    "from sklearn.ensemble import RandomForestClassifier\n",
    "from sklearn.metrics import precision_score\n",
    "from sklearn.metrics import recall_score, f1_score\n",
    "import xgboost as xgb\n",
    "from hyperopt import tpe, hp, fmin, STATUS_OK,Trials\n",
    "from hyperopt.pyll.base import scope\n",
    "from sklearn import metrics\n",
    "from sklearn.model_selection import cross_val_score\n",
    "\n",
    "pd.set_option('display.max_columns', None)\n",
    "pd.set_option('display.max_rows', None)\n",
    "\n",
    "import matplotlib.pyplot as plt\n",
    "%matplotlib inline"
   ]
  },
  {
   "cell_type": "code",
   "execution_count": 2,
   "metadata": {},
   "outputs": [
    {
     "name": "stdout",
     "output_type": "stream",
     "text": [
      "for file at wisdm-dataset/arff_files/phone/gyro/data_1600_gyro_phone.arffshape is: (321, 93)\n",
      "for file at wisdm-dataset/arff_files/phone/gyro/data_1601_gyro_phone.arffshape is: (405, 93)\n",
      "for file at wisdm-dataset/arff_files/phone/gyro/data_1602_gyro_phone.arffshape is: (321, 93)\n",
      "for file at wisdm-dataset/arff_files/phone/gyro/data_1603_gyro_phone.arffshape is: (405, 93)\n",
      "for file at wisdm-dataset/arff_files/phone/gyro/data_1604_gyro_phone.arffshape is: (321, 93)\n",
      "for file at wisdm-dataset/arff_files/phone/gyro/data_1605_gyro_phone.arffshape is: (405, 93)\n",
      "for file at wisdm-dataset/arff_files/phone/gyro/data_1606_gyro_phone.arffshape is: (321, 93)\n",
      "for file at wisdm-dataset/arff_files/phone/gyro/data_1607_gyro_phone.arffshape is: (383, 93)\n",
      "for file at wisdm-dataset/arff_files/phone/gyro/data_1608_gyro_phone.arffshape is: (321, 93)\n",
      "for file at wisdm-dataset/arff_files/phone/gyro/data_1609_gyro_phone.arffshape is: (304, 93)\n",
      "for file at wisdm-dataset/arff_files/phone/gyro/data_1610_gyro_phone.arffshape is: (321, 93)\n",
      "for file at wisdm-dataset/arff_files/phone/gyro/data_1611_gyro_phone.arffshape is: (321, 93)\n",
      "for file at wisdm-dataset/arff_files/phone/gyro/data_1612_gyro_phone.arffshape is: (321, 93)\n",
      "for file at wisdm-dataset/arff_files/phone/gyro/data_1613_gyro_phone.arffshape is: (405, 93)\n",
      "for file at wisdm-dataset/arff_files/phone/gyro/data_1615_gyro_phone.arffshape is: (321, 93)\n",
      "for file at wisdm-dataset/arff_files/phone/gyro/data_1616_gyro_phone.arffshape is: (285, 93)\n",
      "for file at wisdm-dataset/arff_files/phone/gyro/data_1617_gyro_phone.arffshape is: (321, 93)\n",
      "for file at wisdm-dataset/arff_files/phone/gyro/data_1618_gyro_phone.arffshape is: (303, 93)\n",
      "for file at wisdm-dataset/arff_files/phone/gyro/data_1619_gyro_phone.arffshape is: (405, 93)\n",
      "for file at wisdm-dataset/arff_files/phone/gyro/data_1620_gyro_phone.arffshape is: (321, 93)\n",
      "for file at wisdm-dataset/arff_files/phone/gyro/data_1621_gyro_phone.arffshape is: (405, 93)\n",
      "for file at wisdm-dataset/arff_files/phone/gyro/data_1622_gyro_phone.arffshape is: (321, 93)\n",
      "for file at wisdm-dataset/arff_files/phone/gyro/data_1623_gyro_phone.arffshape is: (321, 93)\n",
      "for file at wisdm-dataset/arff_files/phone/gyro/data_1624_gyro_phone.arffshape is: (321, 93)\n",
      "for file at wisdm-dataset/arff_files/phone/gyro/data_1625_gyro_phone.arffshape is: (321, 93)\n",
      "for file at wisdm-dataset/arff_files/phone/gyro/data_1626_gyro_phone.arffshape is: (347, 93)\n",
      "for file at wisdm-dataset/arff_files/phone/gyro/data_1627_gyro_phone.arffshape is: (321, 93)\n",
      "for file at wisdm-dataset/arff_files/phone/gyro/data_1628_gyro_phone.arffshape is: (321, 93)\n",
      "for file at wisdm-dataset/arff_files/phone/gyro/data_1629_gyro_phone.arffshape is: (321, 93)\n",
      "for file at wisdm-dataset/arff_files/phone/gyro/data_1630_gyro_phone.arffshape is: (321, 93)\n",
      "for file at wisdm-dataset/arff_files/phone/gyro/data_1631_gyro_phone.arffshape is: (321, 93)\n",
      "for file at wisdm-dataset/arff_files/phone/gyro/data_1632_gyro_phone.arffshape is: (321, 93)\n",
      "for file at wisdm-dataset/arff_files/phone/gyro/data_1633_gyro_phone.arffshape is: (321, 93)\n",
      "for file at wisdm-dataset/arff_files/phone/gyro/data_1634_gyro_phone.arffshape is: (321, 93)\n",
      "for file at wisdm-dataset/arff_files/phone/gyro/data_1635_gyro_phone.arffshape is: (322, 93)\n",
      "for file at wisdm-dataset/arff_files/phone/gyro/data_1636_gyro_phone.arffshape is: (321, 93)\n",
      "for file at wisdm-dataset/arff_files/phone/gyro/data_1637_gyro_phone.arffshape is: (323, 93)\n",
      "for file at wisdm-dataset/arff_files/phone/gyro/data_1638_gyro_phone.arffshape is: (323, 93)\n",
      "for file at wisdm-dataset/arff_files/phone/gyro/data_1639_gyro_phone.arffshape is: (324, 93)\n",
      "for file at wisdm-dataset/arff_files/phone/gyro/data_1640_gyro_phone.arffshape is: (324, 93)\n",
      "for file at wisdm-dataset/arff_files/phone/gyro/data_1641_gyro_phone.arffshape is: (379, 93)\n",
      "for file at wisdm-dataset/arff_files/phone/gyro/data_1642_gyro_phone.arffshape is: (357, 93)\n",
      "for file at wisdm-dataset/arff_files/phone/gyro/data_1643_gyro_phone.arffshape is: (379, 93)\n",
      "for file at wisdm-dataset/arff_files/phone/gyro/data_1644_gyro_phone.arffshape is: (379, 93)\n",
      "for file at wisdm-dataset/arff_files/phone/gyro/data_1645_gyro_phone.arffshape is: (401, 93)\n",
      "for file at wisdm-dataset/arff_files/phone/gyro/data_1646_gyro_phone.arffshape is: (401, 93)\n",
      "for file at wisdm-dataset/arff_files/phone/gyro/data_1647_gyro_phone.arffshape is: (405, 93)\n",
      "for file at wisdm-dataset/arff_files/phone/gyro/data_1648_gyro_phone.arffshape is: (401, 93)\n",
      "for file at wisdm-dataset/arff_files/phone/gyro/data_1649_gyro_phone.arffshape is: (406, 93)\n",
      "for file at wisdm-dataset/arff_files/phone/gyro/data_1650_gyro_phone.arffshape is: (401, 93)\n",
      "(17281, 93)\n",
      "(17281, 91)\n",
      "(17281,)\n"
     ]
    }
   ],
   "source": [
    "phone_gyro_df = pd.DataFrame()\n",
    "filenames = os.listdir('wisdm-dataset/arff_files/phone/gyro')\n",
    "filenames.pop(0)\n",
    "for file in filenames:\n",
    "    path = \"wisdm-dataset/arff_files/phone/gyro/\" + file\n",
    "    data = arff.loadarff(path)\n",
    "    df = pd.DataFrame(data[0])\n",
    "    print(\"for file at \" + path + \"shape is: \" + str(df.shape))\n",
    "    frames = [df, phone_gyro_df]\n",
    "    phone_gyro_df = pd.concat(frames, sort = False)\n",
    "    \n",
    "print(phone_gyro_df.shape)\n",
    "    \n",
    "phone_gyro_old_column_names = phone_gyro_df.columns\n",
    "\n",
    "phone_gyro_new_column_names = []\n",
    "for name in phone_gyro_old_column_names:\n",
    "    phone_gyro_new_column_names.append(name.replace('\"', ''))\n",
    "    \n",
    "replacement_dict = dict(zip(phone_gyro_old_column_names, phone_gyro_new_column_names))\n",
    "phone_gyro_df = phone_gyro_df.rename(columns = replacement_dict)\n",
    "\n",
    "labelencoder = LabelEncoder()\n",
    "phone_gyro_df['ACTIVITY'] = labelencoder.fit_transform(phone_gyro_df['ACTIVITY'])\n",
    "\n",
    "phone_gyro_df.pop('class')\n",
    "\n",
    "phone_gyro_df_shuffle = shuffle(phone_gyro_df)\n",
    "\n",
    "phone_gyro_data = phone_gyro_df_shuffle.to_numpy()\n",
    "\n",
    "X_phone_gyro = phone_gyro_data[:,1:]\n",
    "Y_phone_gyro = phone_gyro_data[:,0]\n",
    "print(X_phone_gyro.shape)\n",
    "print(Y_phone_gyro.shape)\n",
    "\n",
    "x_train, x_test, y_train, y_test = train_test_split(X_phone_gyro, Y_phone_gyro, test_size = 0.2)"
   ]
  },
  {
   "cell_type": "code",
   "execution_count": 3,
   "metadata": {},
   "outputs": [],
   "source": [
    "space = {\n",
    "    \"n_estimators\": hp.choice(\"n_estimators\", [100, 150, 200, 250, 300, 350, 400, 450, 500]),\n",
    "    \"max_depth\": hp.quniform(\"max_depth\", 1, 15,1),\n",
    "    \"criterion\": hp.choice(\"criterion\", [\"gini\", \"entropy\"]),\n",
    "    \"min_samples_split\": hp.choice(\"min_samples_split\", [2, 3, 4, 5, 6, 7, 8, 9, 10]),\n",
    "    \"max_features\": hp.choice(\"max_features\", [\"auto\",\"sqrt\",\"log2\"]),\n",
    "}"
   ]
  },
  {
   "cell_type": "code",
   "execution_count": 4,
   "metadata": {},
   "outputs": [],
   "source": [
    "def hyperparameter_tuning(space):\n",
    "    clf = RandomForestClassifier(n_estimators = int(space['n_estimators']), max_depth = space['max_depth'], \n",
    "                                 criterion = space['criterion'], min_samples_split = int(space['min_samples_split']),\n",
    "                                 max_features = space['max_features'])\n",
    "    acc = cross_val_score(clf, x_train, y_train,scoring=\"accuracy\").mean()\n",
    "    return {\"loss\": -acc, \"status\": STATUS_OK}"
   ]
  },
  {
   "cell_type": "code",
   "execution_count": null,
   "metadata": {},
   "outputs": [
    {
     "name": "stdout",
     "output_type": "stream",
     "text": [
      "  7%|███▏                                         | 7/100 [27:09<6:29:01, 250.98s/trial, best loss: -0.475187701342238]"
     ]
    }
   ],
   "source": [
    "trials = Trials()\n",
    "\n",
    "best = fmin(\n",
    "    fn=hyperparameter_tuning,\n",
    "    space = space, \n",
    "    algo=tpe.suggest, \n",
    "    max_evals=100, \n",
    "    trials=trials\n",
    ")\n",
    "\n",
    "print(\"Best: {}\".format(best))"
   ]
  },
  {
   "cell_type": "code",
   "execution_count": null,
   "metadata": {},
   "outputs": [],
   "source": []
  }
 ],
 "metadata": {
  "kernelspec": {
   "display_name": "Python 3",
   "language": "python",
   "name": "python3"
  },
  "language_info": {
   "codemirror_mode": {
    "name": "ipython",
    "version": 3
   },
   "file_extension": ".py",
   "mimetype": "text/x-python",
   "name": "python",
   "nbconvert_exporter": "python",
   "pygments_lexer": "ipython3",
   "version": "3.8.5"
  }
 },
 "nbformat": 4,
 "nbformat_minor": 4
}
