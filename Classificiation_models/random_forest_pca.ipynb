{
 "cells": [
  {
   "cell_type": "code",
   "execution_count": 1,
   "metadata": {},
   "outputs": [],
   "source": [
    "import pandas as pd\n",
    "import numpy as np\n",
    "from scipy.io import arff\n",
    "import os\n",
    "from sklearn import preprocessing\n",
    "from sklearn.preprocessing import LabelEncoder\n",
    "import scipy\n",
    "from sklearn.utils import shuffle\n",
    "from sklearn.model_selection import train_test_split\n",
    "from sklearn.metrics import accuracy_score\n",
    "from sklearn.preprocessing import StandardScaler\n",
    "from sklearn.decomposition import PCA\n",
    "from sklearn.ensemble import RandomForestClassifier\n",
    "from sklearn.metrics import precision_score\n",
    "from sklearn.metrics import recall_score, f1_score\n",
    "import xgboost as xgb\n",
    "from hyperopt import tpe, hp, fmin, STATUS_OK,Trials\n",
    "from hyperopt.pyll.base import scope\n",
    "from sklearn import metrics\n",
    "from sklearn.model_selection import cross_val_score\n",
    "\n",
    "import matplotlib.pyplot as plt\n",
    "%matplotlib inline"
   ]
  },
  {
   "cell_type": "code",
   "execution_count": 2,
   "metadata": {},
   "outputs": [],
   "source": [
    "pd.set_option('display.max_columns', None)\n",
    "pd.set_option('display.max_rows', None)"
   ]
  },
  {
   "cell_type": "code",
   "execution_count": 3,
   "metadata": {},
   "outputs": [
    {
     "name": "stdout",
     "output_type": "stream",
     "text": [
      "for file at wisdm-dataset/arff_files/phone/accel/data_1600_accel_phone.arffshape is: (321, 93)\n",
      "for file at wisdm-dataset/arff_files/phone/accel/data_1601_accel_phone.arffshape is: (407, 93)\n",
      "for file at wisdm-dataset/arff_files/phone/accel/data_1602_accel_phone.arffshape is: (424, 93)\n",
      "for file at wisdm-dataset/arff_files/phone/accel/data_1603_accel_phone.arffshape is: (409, 93)\n",
      "for file at wisdm-dataset/arff_files/phone/accel/data_1604_accel_phone.arffshape is: (321, 93)\n",
      "for file at wisdm-dataset/arff_files/phone/accel/data_1605_accel_phone.arffshape is: (406, 93)\n",
      "for file at wisdm-dataset/arff_files/phone/accel/data_1606_accel_phone.arffshape is: (321, 93)\n",
      "for file at wisdm-dataset/arff_files/phone/accel/data_1607_accel_phone.arffshape is: (383, 93)\n",
      "for file at wisdm-dataset/arff_files/phone/accel/data_1608_accel_phone.arffshape is: (482, 93)\n",
      "for file at wisdm-dataset/arff_files/phone/accel/data_1609_accel_phone.arffshape is: (306, 93)\n",
      "for file at wisdm-dataset/arff_files/phone/accel/data_1610_accel_phone.arffshape is: (404, 93)\n",
      "for file at wisdm-dataset/arff_files/phone/accel/data_1611_accel_phone.arffshape is: (404, 93)\n",
      "for file at wisdm-dataset/arff_files/phone/accel/data_1612_accel_phone.arffshape is: (404, 93)\n",
      "for file at wisdm-dataset/arff_files/phone/accel/data_1613_accel_phone.arffshape is: (404, 93)\n",
      "for file at wisdm-dataset/arff_files/phone/accel/data_1615_accel_phone.arffshape is: (404, 93)\n",
      "for file at wisdm-dataset/arff_files/phone/accel/data_1616_accel_phone.arffshape is: (404, 93)\n",
      "for file at wisdm-dataset/arff_files/phone/accel/data_1617_accel_phone.arffshape is: (404, 93)\n",
      "for file at wisdm-dataset/arff_files/phone/accel/data_1618_accel_phone.arffshape is: (303, 93)\n",
      "for file at wisdm-dataset/arff_files/phone/accel/data_1619_accel_phone.arffshape is: (407, 93)\n",
      "for file at wisdm-dataset/arff_files/phone/accel/data_1620_accel_phone.arffshape is: (555, 93)\n",
      "for file at wisdm-dataset/arff_files/phone/accel/data_1621_accel_phone.arffshape is: (408, 93)\n",
      "for file at wisdm-dataset/arff_files/phone/accel/data_1622_accel_phone.arffshape is: (321, 93)\n",
      "for file at wisdm-dataset/arff_files/phone/accel/data_1623_accel_phone.arffshape is: (455, 93)\n",
      "for file at wisdm-dataset/arff_files/phone/accel/data_1624_accel_phone.arffshape is: (321, 93)\n",
      "for file at wisdm-dataset/arff_files/phone/accel/data_1625_accel_phone.arffshape is: (574, 93)\n",
      "for file at wisdm-dataset/arff_files/phone/accel/data_1626_accel_phone.arffshape is: (375, 93)\n",
      "for file at wisdm-dataset/arff_files/phone/accel/data_1627_accel_phone.arffshape is: (775, 93)\n",
      "for file at wisdm-dataset/arff_files/phone/accel/data_1628_accel_phone.arffshape is: (541, 93)\n",
      "for file at wisdm-dataset/arff_files/phone/accel/data_1629_accel_phone.arffshape is: (348, 93)\n",
      "for file at wisdm-dataset/arff_files/phone/accel/data_1630_accel_phone.arffshape is: (321, 93)\n",
      "for file at wisdm-dataset/arff_files/phone/accel/data_1631_accel_phone.arffshape is: (321, 93)\n",
      "for file at wisdm-dataset/arff_files/phone/accel/data_1632_accel_phone.arffshape is: (321, 93)\n",
      "for file at wisdm-dataset/arff_files/phone/accel/data_1633_accel_phone.arffshape is: (429, 93)\n",
      "for file at wisdm-dataset/arff_files/phone/accel/data_1634_accel_phone.arffshape is: (321, 93)\n",
      "for file at wisdm-dataset/arff_files/phone/accel/data_1635_accel_phone.arffshape is: (644, 93)\n",
      "for file at wisdm-dataset/arff_files/phone/accel/data_1636_accel_phone.arffshape is: (321, 93)\n",
      "for file at wisdm-dataset/arff_files/phone/accel/data_1637_accel_phone.arffshape is: (324, 93)\n",
      "for file at wisdm-dataset/arff_files/phone/accel/data_1638_accel_phone.arffshape is: (324, 93)\n",
      "for file at wisdm-dataset/arff_files/phone/accel/data_1639_accel_phone.arffshape is: (324, 93)\n",
      "for file at wisdm-dataset/arff_files/phone/accel/data_1640_accel_phone.arffshape is: (324, 93)\n",
      "for file at wisdm-dataset/arff_files/phone/accel/data_1641_accel_phone.arffshape is: (803, 93)\n",
      "for file at wisdm-dataset/arff_files/phone/accel/data_1642_accel_phone.arffshape is: (714, 93)\n",
      "for file at wisdm-dataset/arff_files/phone/accel/data_1643_accel_phone.arffshape is: (759, 93)\n",
      "for file at wisdm-dataset/arff_files/phone/accel/data_1644_accel_phone.arffshape is: (803, 93)\n",
      "for file at wisdm-dataset/arff_files/phone/accel/data_1645_accel_phone.arffshape is: (803, 93)\n",
      "for file at wisdm-dataset/arff_files/phone/accel/data_1646_accel_phone.arffshape is: (803, 93)\n",
      "for file at wisdm-dataset/arff_files/phone/accel/data_1647_accel_phone.arffshape is: (409, 93)\n",
      "for file at wisdm-dataset/arff_files/phone/accel/data_1648_accel_phone.arffshape is: (803, 93)\n",
      "for file at wisdm-dataset/arff_files/phone/accel/data_1649_accel_phone.arffshape is: (409, 93)\n",
      "for file at wisdm-dataset/arff_files/phone/accel/data_1650_accel_phone.arffshape is: (803, 93)\n",
      "(23074, 93)\n",
      "(23074, 91)\n",
      "(23074,)\n"
     ]
    }
   ],
   "source": [
    "phone_accel_df = pd.DataFrame()\n",
    "filenames = os.listdir('wisdm-dataset/arff_files/phone/accel')\n",
    "filenames.pop(0)\n",
    "for file in filenames:\n",
    "    path = \"wisdm-dataset/arff_files/phone/accel/\" + file\n",
    "    data = arff.loadarff(path)\n",
    "    df = pd.DataFrame(data[0])\n",
    "    print(\"for file at \" + path + \"shape is: \" + str(df.shape))\n",
    "    frames = [df, phone_accel_df]\n",
    "    phone_accel_df = pd.concat(frames, sort = False)\n",
    "    \n",
    "print(phone_accel_df.shape)\n",
    "    \n",
    "phone_accel_old_column_names = phone_accel_df.columns\n",
    "\n",
    "phone_accel_new_column_names = []\n",
    "for name in phone_accel_old_column_names:\n",
    "    phone_accel_new_column_names.append(name.replace('\"', ''))\n",
    "    \n",
    "replacement_dict = dict(zip(phone_accel_old_column_names, phone_accel_new_column_names))\n",
    "phone_accel_df = phone_accel_df.rename(columns = replacement_dict)\n",
    "#phone_accel_df.head()\n",
    "\n",
    "labelencoder = LabelEncoder()\n",
    "phone_accel_df['ACTIVITY'] = labelencoder.fit_transform(phone_accel_df['ACTIVITY'])\n",
    "#phone_accel_df.head()\n",
    "\n",
    "phone_accel_df.pop('class')\n",
    "\n",
    "phone_accel_df_shuffle = shuffle(phone_accel_df)\n",
    "\n",
    "phone_accel_data = phone_accel_df_shuffle.to_numpy()\n",
    "\n",
    "X_phone_accel = phone_accel_data[:,1:]\n",
    "Y_phone_accel = phone_accel_data[:,0]\n",
    "print(X_phone_accel.shape)\n",
    "print(Y_phone_accel.shape)\n",
    "\n",
    "x_train, x_test, y_train, y_test = train_test_split(X_phone_accel, Y_phone_accel, test_size = 0.35)\n",
    "#x_test, x_val, y_test, y_val = train_test_split(x_test, y_test, test_size = 0.40)"
   ]
  },
  {
   "cell_type": "code",
   "execution_count": 4,
   "metadata": {},
   "outputs": [
    {
     "data": {
      "image/png": "[encoded data removed]",
      "text/plain": [
       "<Figure size 864x432 with 1 Axes>"
      ]
     },
     "metadata": {
      "needs_background": "light"
     },
     "output_type": "display_data"
    }
   ],
   "source": [
    "x_pca = StandardScaler().fit_transform(x_train)\n",
    "\n",
    "pca = PCA().fit(x_pca)\n",
    "\n",
    "import matplotlib.pyplot as plt\n",
    "plt.rcParams[\"figure.figsize\"] = (12,6)\n",
    "\n",
    "fig, ax = plt.subplots()\n",
    "xi = np.arange(1, 92, step=1)\n",
    "yi = np.cumsum(pca.explained_variance_ratio_)\n",
    "\n",
    "plt.ylim(0.0,1.1)\n",
    "plt.plot(xi, yi, marker='o', linestyle='--', color='b')\n",
    "\n",
    "plt.axhline(y=0.95, color='r', linestyle='-')\n",
    "plt.text(0.5, 0.85, '95% cut-off threshold', color = 'red', fontsize = 16)\n",
    "\n",
    "ax.grid(axis='x')\n",
    "plt.show()"
   ]
  },
  {
   "cell_type": "code",
   "execution_count": 5,
   "metadata": {},
   "outputs": [],
   "source": [
    "pca = PCA(n_components = 28)\n",
    "pca.fit(x_train)\n",
    "\n",
    "x_train_pca = pca.transform(x_train)\n",
    "x_test_pca = pca.transform(x_test)\n",
    "#x_val_pca = pca.transform(x_val)"
   ]
  },
  {
   "cell_type": "code",
   "execution_count": 6,
   "metadata": {},
   "outputs": [],
   "source": [
    "space = {\n",
    "    \"n_estimators\": hp.choice(\"n_estimators\", [100, 150, 200, 250, 300, 350, 400, 450, 500]),\n",
    "    \"max_depth\": hp.quniform(\"max_depth\", 1, 15,1),\n",
    "    \"criterion\": hp.choice(\"criterion\", [\"gini\", \"entropy\"]),\n",
    "    \"min_samples_split\": hp.choice(\"min_samples_split\", [2, 3, 4, 5, 6, 7, 8, 9, 10]),\n",
    "    \"max_features\": hp.choice(\"max_features\", [\"auto\",\"sqrt\",\"log2\"]),\n",
    "}"
   ]
  },
  {
   "cell_type": "code",
   "execution_count": 7,
   "metadata": {},
   "outputs": [],
   "source": [
    "def hyperparameter_tuning(space):\n",
    "    clf = RandomForestClassifier(n_estimators = int(space['n_estimators']), max_depth = space['max_depth'], \n",
    "                                 criterion = space['criterion'], min_samples_split = int(space['min_samples_split']),\n",
    "                                 max_features = space['max_features'],n_jobs=-1)\n",
    "    acc = cross_val_score(clf, x_train_pca, y_train,scoring=\"accuracy\").mean()\n",
    "    return {\"loss\": -acc, \"status\": STATUS_OK}"
   ]
  },
  {
   "cell_type": "code",
   "execution_count": null,
   "metadata": {},
   "outputs": [
    {
     "name": "stdout",
     "output_type": "stream",
     "text": [
      " 61%|█████████████████████████                | 61/100 [1:16:55<1:26:49, 133.57s/trial, best loss: -0.8287099477603647]"
     ]
    }
   ],
   "source": [
    "trials = Trials()\n",
    "\n",
    "best = fmin(\n",
    "    fn=hyperparameter_tuning,\n",
    "    space = space, \n",
    "    algo=tpe.suggest, \n",
    "    max_evals=100, \n",
    "    trials=trials\n",
    ")\n",
    "\n",
    "print(\"Best: {}\".format(best))"
   ]
  },
  {
   "cell_type": "code",
   "execution_count": null,
   "metadata": {},
   "outputs": [],
   "source": [
    "clf = RandomForestClassifier(criterion = 'entropy', max_depth = 15, max_features = 'auto', min_samples_split = 4, \n",
    "                             n_estimators = 450, n_jobs = -1)\n",
    "\n",
    "clf.fit(x_train, y_train)\n",
    "\n",
    "y_train_pred = clf.predict(x_train)\n",
    "y_test_pred = clf.predict(x_test)\n",
    "\n",
    "train_acc = accuracy_score(y_train, y_train_pred)\n",
    "test_acc = accuracy_score(y_test, y_test_pred)\n",
    "\n",
    "print(\"Train accuracy: \", train_acc)\n",
    "print(\"Test accuracy: \", test_acc)"
   ]
  },
  {
   "cell_type": "code",
   "execution_count": null,
   "metadata": {},
   "outputs": [],
   "source": [
    "print(\"average = Nonen: \", precision_score(y_test, y_test_pred, average = None))\n",
    "print(\"average = micro: \", precision_score(y_test, y_test_pred, average = 'micro'))\n",
    "print(\"average = macro: \", precision_score(y_test, y_test_pred, average = 'macro'))\n",
    "print(\"average = weighted: \", precision_score(y_test, y_test_pred, average = 'weighted'))"
   ]
  },
  {
   "cell_type": "code",
   "execution_count": null,
   "metadata": {},
   "outputs": [],
   "source": [
    "print(\"average = Nonen: \", recall_score(y_test, y_test_pred, average = None))\n",
    "print(\"average = micro: \", recall_score(y_test, y_test_pred, average = 'micro'))\n",
    "print(\"average = macro: \", recall_score(y_test, y_test_pred, average = 'macro'))\n",
    "print(\"average = weighted: \", recall_score(y_test, y_test_pred, average = 'weighted'))"
   ]
  }
 ],
 "metadata": {
  "kernelspec": {
   "display_name": "Python 3",
   "language": "python",
   "name": "python3"
  },
  "language_info": {
   "codemirror_mode": {
    "name": "ipython",
    "version": 3
   },
   "file_extension": ".py",
   "mimetype": "text/x-python",
   "name": "python",
   "nbconvert_exporter": "python",
   "pygments_lexer": "ipython3",
   "version": "3.8.5"
  }
 },
 "nbformat": 4,
 "nbformat_minor": 4
}
