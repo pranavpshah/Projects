{
 "cells": [
  {
   "cell_type": "markdown",
   "metadata": {},
   "source": [
    "# Running Models based on tuned hyperparameters"
   ]
  },
  {
   "cell_type": "markdown",
   "metadata": {},
   "source": [
    "Tuned hyperparameters can be referenced from the hyperparameter_tuning_xgboost_randomforest.ipynb"
   ]
  },
  {
   "cell_type": "code",
   "execution_count": 1,
   "metadata": {},
   "outputs": [],
   "source": [
    "##Importing all the required libraries\n",
    "\n",
    "import pandas as pd\n",
    "import numpy as np\n",
    "from scipy.io import arff\n",
    "import os\n",
    "from sklearn import preprocessing\n",
    "from sklearn.preprocessing import LabelEncoder\n",
    "import scipy\n",
    "from sklearn.utils import shuffle\n",
    "from sklearn.model_selection import train_test_split\n",
    "from sklearn.metrics import accuracy_score\n",
    "from sklearn.preprocessing import StandardScaler\n",
    "from sklearn.decomposition import PCA\n",
    "from sklearn.ensemble import RandomForestClassifier\n",
    "from sklearn.metrics import precision_score\n",
    "from sklearn.metrics import recall_score, f1_score\n",
    "import xgboost as xgb\n",
    "from hyperopt import tpe, hp, fmin, STATUS_OK,Trials\n",
    "from hyperopt.pyll.base import scope\n",
    "from sklearn import metrics\n",
    "from sklearn.model_selection import cross_val_score\n",
    "import seaborn as sns\n",
    "\n",
    "pd.set_option('display.max_columns', None)\n",
    "pd.set_option('display.max_rows', None)\n",
    "\n",
    "import matplotlib.pyplot as plt\n",
    "%matplotlib inline"
   ]
  },
  {
   "cell_type": "code",
   "execution_count": 2,
   "metadata": {},
   "outputs": [
    {
     "name": "stdout",
     "output_type": "stream",
     "text": [
      "for file at wisdm-dataset/arff_files/phone/accel/data_1600_accel_phone.arffshape is: (321, 93)\n",
      "for file at wisdm-dataset/arff_files/phone/accel/data_1601_accel_phone.arffshape is: (407, 93)\n",
      "for file at wisdm-dataset/arff_files/phone/accel/data_1602_accel_phone.arffshape is: (424, 93)\n",
      "for file at wisdm-dataset/arff_files/phone/accel/data_1603_accel_phone.arffshape is: (409, 93)\n",
      "for file at wisdm-dataset/arff_files/phone/accel/data_1604_accel_phone.arffshape is: (321, 93)\n",
      "for file at wisdm-dataset/arff_files/phone/accel/data_1605_accel_phone.arffshape is: (406, 93)\n",
      "for file at wisdm-dataset/arff_files/phone/accel/data_1606_accel_phone.arffshape is: (321, 93)\n",
      "for file at wisdm-dataset/arff_files/phone/accel/data_1607_accel_phone.arffshape is: (383, 93)\n",
      "for file at wisdm-dataset/arff_files/phone/accel/data_1608_accel_phone.arffshape is: (482, 93)\n",
      "for file at wisdm-dataset/arff_files/phone/accel/data_1609_accel_phone.arffshape is: (306, 93)\n",
      "for file at wisdm-dataset/arff_files/phone/accel/data_1610_accel_phone.arffshape is: (404, 93)\n",
      "for file at wisdm-dataset/arff_files/phone/accel/data_1611_accel_phone.arffshape is: (404, 93)\n",
      "for file at wisdm-dataset/arff_files/phone/accel/data_1612_accel_phone.arffshape is: (404, 93)\n",
      "for file at wisdm-dataset/arff_files/phone/accel/data_1613_accel_phone.arffshape is: (404, 93)\n",
      "for file at wisdm-dataset/arff_files/phone/accel/data_1615_accel_phone.arffshape is: (404, 93)\n",
      "for file at wisdm-dataset/arff_files/phone/accel/data_1616_accel_phone.arffshape is: (404, 93)\n",
      "for file at wisdm-dataset/arff_files/phone/accel/data_1617_accel_phone.arffshape is: (404, 93)\n",
      "for file at wisdm-dataset/arff_files/phone/accel/data_1618_accel_phone.arffshape is: (303, 93)\n",
      "for file at wisdm-dataset/arff_files/phone/accel/data_1619_accel_phone.arffshape is: (407, 93)\n",
      "for file at wisdm-dataset/arff_files/phone/accel/data_1620_accel_phone.arffshape is: (555, 93)\n",
      "for file at wisdm-dataset/arff_files/phone/accel/data_1621_accel_phone.arffshape is: (408, 93)\n",
      "for file at wisdm-dataset/arff_files/phone/accel/data_1622_accel_phone.arffshape is: (321, 93)\n",
      "for file at wisdm-dataset/arff_files/phone/accel/data_1623_accel_phone.arffshape is: (455, 93)\n",
      "for file at wisdm-dataset/arff_files/phone/accel/data_1624_accel_phone.arffshape is: (321, 93)\n",
      "for file at wisdm-dataset/arff_files/phone/accel/data_1625_accel_phone.arffshape is: (574, 93)\n",
      "for file at wisdm-dataset/arff_files/phone/accel/data_1626_accel_phone.arffshape is: (375, 93)\n",
      "for file at wisdm-dataset/arff_files/phone/accel/data_1627_accel_phone.arffshape is: (775, 93)\n",
      "for file at wisdm-dataset/arff_files/phone/accel/data_1628_accel_phone.arffshape is: (541, 93)\n",
      "for file at wisdm-dataset/arff_files/phone/accel/data_1629_accel_phone.arffshape is: (348, 93)\n",
      "for file at wisdm-dataset/arff_files/phone/accel/data_1630_accel_phone.arffshape is: (321, 93)\n",
      "for file at wisdm-dataset/arff_files/phone/accel/data_1631_accel_phone.arffshape is: (321, 93)\n",
      "for file at wisdm-dataset/arff_files/phone/accel/data_1632_accel_phone.arffshape is: (321, 93)\n",
      "for file at wisdm-dataset/arff_files/phone/accel/data_1633_accel_phone.arffshape is: (429, 93)\n",
      "for file at wisdm-dataset/arff_files/phone/accel/data_1634_accel_phone.arffshape is: (321, 93)\n",
      "for file at wisdm-dataset/arff_files/phone/accel/data_1635_accel_phone.arffshape is: (644, 93)\n",
      "for file at wisdm-dataset/arff_files/phone/accel/data_1636_accel_phone.arffshape is: (321, 93)\n",
      "for file at wisdm-dataset/arff_files/phone/accel/data_1637_accel_phone.arffshape is: (324, 93)\n",
      "for file at wisdm-dataset/arff_files/phone/accel/data_1638_accel_phone.arffshape is: (324, 93)\n",
      "for file at wisdm-dataset/arff_files/phone/accel/data_1639_accel_phone.arffshape is: (324, 93)\n",
      "for file at wisdm-dataset/arff_files/phone/accel/data_1640_accel_phone.arffshape is: (324, 93)\n",
      "for file at wisdm-dataset/arff_files/phone/accel/data_1641_accel_phone.arffshape is: (803, 93)\n",
      "for file at wisdm-dataset/arff_files/phone/accel/data_1642_accel_phone.arffshape is: (714, 93)\n",
      "for file at wisdm-dataset/arff_files/phone/accel/data_1643_accel_phone.arffshape is: (759, 93)\n",
      "for file at wisdm-dataset/arff_files/phone/accel/data_1644_accel_phone.arffshape is: (803, 93)\n",
      "for file at wisdm-dataset/arff_files/phone/accel/data_1645_accel_phone.arffshape is: (803, 93)\n",
      "for file at wisdm-dataset/arff_files/phone/accel/data_1646_accel_phone.arffshape is: (803, 93)\n",
      "for file at wisdm-dataset/arff_files/phone/accel/data_1647_accel_phone.arffshape is: (409, 93)\n",
      "for file at wisdm-dataset/arff_files/phone/accel/data_1648_accel_phone.arffshape is: (803, 93)\n",
      "for file at wisdm-dataset/arff_files/phone/accel/data_1649_accel_phone.arffshape is: (409, 93)\n",
      "for file at wisdm-dataset/arff_files/phone/accel/data_1650_accel_phone.arffshape is: (803, 93)\n",
      "(23074, 93)\n",
      "(23074, 91)\n",
      "(23074,)\n",
      "for file at wisdm-dataset/arff_files/phone/gyro/data_1600_gyro_phone.arffshape is: (321, 93)\n",
      "for file at wisdm-dataset/arff_files/phone/gyro/data_1601_gyro_phone.arffshape is: (405, 93)\n",
      "for file at wisdm-dataset/arff_files/phone/gyro/data_1602_gyro_phone.arffshape is: (321, 93)\n",
      "for file at wisdm-dataset/arff_files/phone/gyro/data_1603_gyro_phone.arffshape is: (405, 93)\n",
      "for file at wisdm-dataset/arff_files/phone/gyro/data_1604_gyro_phone.arffshape is: (321, 93)\n",
      "for file at wisdm-dataset/arff_files/phone/gyro/data_1605_gyro_phone.arffshape is: (405, 93)\n",
      "for file at wisdm-dataset/arff_files/phone/gyro/data_1606_gyro_phone.arffshape is: (321, 93)\n",
      "for file at wisdm-dataset/arff_files/phone/gyro/data_1607_gyro_phone.arffshape is: (383, 93)\n",
      "for file at wisdm-dataset/arff_files/phone/gyro/data_1608_gyro_phone.arffshape is: (321, 93)\n",
      "for file at wisdm-dataset/arff_files/phone/gyro/data_1609_gyro_phone.arffshape is: (304, 93)\n",
      "for file at wisdm-dataset/arff_files/phone/gyro/data_1610_gyro_phone.arffshape is: (321, 93)\n",
      "for file at wisdm-dataset/arff_files/phone/gyro/data_1611_gyro_phone.arffshape is: (321, 93)\n",
      "for file at wisdm-dataset/arff_files/phone/gyro/data_1612_gyro_phone.arffshape is: (321, 93)\n",
      "for file at wisdm-dataset/arff_files/phone/gyro/data_1613_gyro_phone.arffshape is: (405, 93)\n",
      "for file at wisdm-dataset/arff_files/phone/gyro/data_1615_gyro_phone.arffshape is: (321, 93)\n",
      "for file at wisdm-dataset/arff_files/phone/gyro/data_1616_gyro_phone.arffshape is: (285, 93)\n",
      "for file at wisdm-dataset/arff_files/phone/gyro/data_1617_gyro_phone.arffshape is: (321, 93)\n",
      "for file at wisdm-dataset/arff_files/phone/gyro/data_1618_gyro_phone.arffshape is: (303, 93)\n",
      "for file at wisdm-dataset/arff_files/phone/gyro/data_1619_gyro_phone.arffshape is: (405, 93)\n",
      "for file at wisdm-dataset/arff_files/phone/gyro/data_1620_gyro_phone.arffshape is: (321, 93)\n",
      "for file at wisdm-dataset/arff_files/phone/gyro/data_1621_gyro_phone.arffshape is: (405, 93)\n",
      "for file at wisdm-dataset/arff_files/phone/gyro/data_1622_gyro_phone.arffshape is: (321, 93)\n",
      "for file at wisdm-dataset/arff_files/phone/gyro/data_1623_gyro_phone.arffshape is: (321, 93)\n",
      "for file at wisdm-dataset/arff_files/phone/gyro/data_1624_gyro_phone.arffshape is: (321, 93)\n",
      "for file at wisdm-dataset/arff_files/phone/gyro/data_1625_gyro_phone.arffshape is: (321, 93)\n",
      "for file at wisdm-dataset/arff_files/phone/gyro/data_1626_gyro_phone.arffshape is: (347, 93)\n",
      "for file at wisdm-dataset/arff_files/phone/gyro/data_1627_gyro_phone.arffshape is: (321, 93)\n",
      "for file at wisdm-dataset/arff_files/phone/gyro/data_1628_gyro_phone.arffshape is: (321, 93)\n",
      "for file at wisdm-dataset/arff_files/phone/gyro/data_1629_gyro_phone.arffshape is: (321, 93)\n",
      "for file at wisdm-dataset/arff_files/phone/gyro/data_1630_gyro_phone.arffshape is: (321, 93)\n",
      "for file at wisdm-dataset/arff_files/phone/gyro/data_1631_gyro_phone.arffshape is: (321, 93)\n",
      "for file at wisdm-dataset/arff_files/phone/gyro/data_1632_gyro_phone.arffshape is: (321, 93)\n",
      "for file at wisdm-dataset/arff_files/phone/gyro/data_1633_gyro_phone.arffshape is: (321, 93)\n",
      "for file at wisdm-dataset/arff_files/phone/gyro/data_1634_gyro_phone.arffshape is: (321, 93)\n",
      "for file at wisdm-dataset/arff_files/phone/gyro/data_1635_gyro_phone.arffshape is: (322, 93)\n",
      "for file at wisdm-dataset/arff_files/phone/gyro/data_1636_gyro_phone.arffshape is: (321, 93)\n",
      "for file at wisdm-dataset/arff_files/phone/gyro/data_1637_gyro_phone.arffshape is: (323, 93)\n",
      "for file at wisdm-dataset/arff_files/phone/gyro/data_1638_gyro_phone.arffshape is: (323, 93)\n"
     ]
    },
    {
     "name": "stdout",
     "output_type": "stream",
     "text": [
      "for file at wisdm-dataset/arff_files/phone/gyro/data_1639_gyro_phone.arffshape is: (324, 93)\n",
      "for file at wisdm-dataset/arff_files/phone/gyro/data_1640_gyro_phone.arffshape is: (324, 93)\n",
      "for file at wisdm-dataset/arff_files/phone/gyro/data_1641_gyro_phone.arffshape is: (379, 93)\n",
      "for file at wisdm-dataset/arff_files/phone/gyro/data_1642_gyro_phone.arffshape is: (357, 93)\n",
      "for file at wisdm-dataset/arff_files/phone/gyro/data_1643_gyro_phone.arffshape is: (379, 93)\n",
      "for file at wisdm-dataset/arff_files/phone/gyro/data_1644_gyro_phone.arffshape is: (379, 93)\n",
      "for file at wisdm-dataset/arff_files/phone/gyro/data_1645_gyro_phone.arffshape is: (401, 93)\n",
      "for file at wisdm-dataset/arff_files/phone/gyro/data_1646_gyro_phone.arffshape is: (401, 93)\n",
      "for file at wisdm-dataset/arff_files/phone/gyro/data_1647_gyro_phone.arffshape is: (405, 93)\n",
      "for file at wisdm-dataset/arff_files/phone/gyro/data_1648_gyro_phone.arffshape is: (401, 93)\n",
      "for file at wisdm-dataset/arff_files/phone/gyro/data_1649_gyro_phone.arffshape is: (406, 93)\n",
      "for file at wisdm-dataset/arff_files/phone/gyro/data_1650_gyro_phone.arffshape is: (401, 93)\n",
      "(17281, 93)\n",
      "(17281, 91)\n",
      "(17281,)\n",
      "for file at wisdm-dataset/arff_files/watch/accel/data_1600_accel_watch.arffshape is: (327, 93)\n",
      "for file at wisdm-dataset/arff_files/watch/accel/data_1601_accel_watch.arffshape is: (324, 93)\n",
      "for file at wisdm-dataset/arff_files/watch/accel/data_1602_accel_watch.arffshape is: (324, 93)\n",
      "for file at wisdm-dataset/arff_files/watch/accel/data_1603_accel_watch.arffshape is: (324, 93)\n",
      "for file at wisdm-dataset/arff_files/watch/accel/data_1604_accel_watch.arffshape is: (324, 93)\n",
      "for file at wisdm-dataset/arff_files/watch/accel/data_1605_accel_watch.arffshape is: (330, 93)\n",
      "for file at wisdm-dataset/arff_files/watch/accel/data_1606_accel_watch.arffshape is: (324, 93)\n",
      "for file at wisdm-dataset/arff_files/watch/accel/data_1607_accel_watch.arffshape is: (329, 93)\n",
      "for file at wisdm-dataset/arff_files/watch/accel/data_1608_accel_watch.arffshape is: (340, 93)\n",
      "for file at wisdm-dataset/arff_files/watch/accel/data_1609_accel_watch.arffshape is: (348, 93)\n",
      "for file at wisdm-dataset/arff_files/watch/accel/data_1610_accel_watch.arffshape is: (324, 93)\n",
      "for file at wisdm-dataset/arff_files/watch/accel/data_1611_accel_watch.arffshape is: (324, 93)\n",
      "for file at wisdm-dataset/arff_files/watch/accel/data_1612_accel_watch.arffshape is: (326, 93)\n",
      "for file at wisdm-dataset/arff_files/watch/accel/data_1613_accel_watch.arffshape is: (324, 93)\n",
      "for file at wisdm-dataset/arff_files/watch/accel/data_1615_accel_watch.arffshape is: (324, 93)\n",
      "for file at wisdm-dataset/arff_files/watch/accel/data_1616_accel_watch.arffshape is: (306, 93)\n",
      "for file at wisdm-dataset/arff_files/watch/accel/data_1617_accel_watch.arffshape is: (335, 93)\n",
      "for file at wisdm-dataset/arff_files/watch/accel/data_1618_accel_watch.arffshape is: (306, 93)\n",
      "for file at wisdm-dataset/arff_files/watch/accel/data_1619_accel_watch.arffshape is: (324, 93)\n",
      "for file at wisdm-dataset/arff_files/watch/accel/data_1620_accel_watch.arffshape is: (335, 93)\n",
      "for file at wisdm-dataset/arff_files/watch/accel/data_1621_accel_watch.arffshape is: (356, 93)\n",
      "for file at wisdm-dataset/arff_files/watch/accel/data_1622_accel_watch.arffshape is: (324, 93)\n",
      "for file at wisdm-dataset/arff_files/watch/accel/data_1623_accel_watch.arffshape is: (324, 93)\n",
      "for file at wisdm-dataset/arff_files/watch/accel/data_1624_accel_watch.arffshape is: (356, 93)\n",
      "for file at wisdm-dataset/arff_files/watch/accel/data_1625_accel_watch.arffshape is: (333, 93)\n",
      "for file at wisdm-dataset/arff_files/watch/accel/data_1626_accel_watch.arffshape is: (336, 93)\n",
      "for file at wisdm-dataset/arff_files/watch/accel/data_1627_accel_watch.arffshape is: (324, 93)\n",
      "for file at wisdm-dataset/arff_files/watch/accel/data_1628_accel_watch.arffshape is: (351, 93)\n",
      "for file at wisdm-dataset/arff_files/watch/accel/data_1629_accel_watch.arffshape is: (324, 93)\n",
      "for file at wisdm-dataset/arff_files/watch/accel/data_1630_accel_watch.arffshape is: (324, 93)\n",
      "for file at wisdm-dataset/arff_files/watch/accel/data_1631_accel_watch.arffshape is: (324, 93)\n",
      "for file at wisdm-dataset/arff_files/watch/accel/data_1632_accel_watch.arffshape is: (324, 93)\n",
      "for file at wisdm-dataset/arff_files/watch/accel/data_1633_accel_watch.arffshape is: (324, 93)\n",
      "for file at wisdm-dataset/arff_files/watch/accel/data_1634_accel_watch.arffshape is: (324, 93)\n",
      "for file at wisdm-dataset/arff_files/watch/accel/data_1635_accel_watch.arffshape is: (324, 93)\n",
      "for file at wisdm-dataset/arff_files/watch/accel/data_1636_accel_watch.arffshape is: (324, 93)\n",
      "for file at wisdm-dataset/arff_files/watch/accel/data_1637_accel_watch.arffshape is: (759, 93)\n",
      "for file at wisdm-dataset/arff_files/watch/accel/data_1638_accel_watch.arffshape is: (803, 93)\n",
      "for file at wisdm-dataset/arff_files/watch/accel/data_1639_accel_watch.arffshape is: (759, 93)\n",
      "for file at wisdm-dataset/arff_files/watch/accel/data_1640_accel_watch.arffshape is: (803, 93)\n",
      "for file at wisdm-dataset/arff_files/watch/accel/data_1641_accel_watch.arffshape is: (324, 93)\n",
      "for file at wisdm-dataset/arff_files/watch/accel/data_1642_accel_watch.arffshape is: (300, 93)\n",
      "for file at wisdm-dataset/arff_files/watch/accel/data_1643_accel_watch.arffshape is: (324, 93)\n",
      "for file at wisdm-dataset/arff_files/watch/accel/data_1644_accel_watch.arffshape is: (351, 93)\n",
      "for file at wisdm-dataset/arff_files/watch/accel/data_1645_accel_watch.arffshape is: (338, 93)\n",
      "for file at wisdm-dataset/arff_files/watch/accel/data_1646_accel_watch.arffshape is: (324, 93)\n",
      "for file at wisdm-dataset/arff_files/watch/accel/data_1647_accel_watch.arffshape is: (327, 93)\n",
      "for file at wisdm-dataset/arff_files/watch/accel/data_1648_accel_watch.arffshape is: (324, 93)\n",
      "for file at wisdm-dataset/arff_files/watch/accel/data_1649_accel_watch.arffshape is: (325, 93)\n",
      "for file at wisdm-dataset/arff_files/watch/accel/data_1650_accel_watch.arffshape is: (332, 93)\n",
      "(18211, 93)\n",
      "(18211, 91)\n",
      "(18211,)\n",
      "for file at wisdm-dataset/arff_files/watch/gyro/data_1600_gyro_watch.arffshape is: (327, 93)\n",
      "for file at wisdm-dataset/arff_files/watch/gyro/data_1601_gyro_watch.arffshape is: (324, 93)\n",
      "for file at wisdm-dataset/arff_files/watch/gyro/data_1602_gyro_watch.arffshape is: (324, 93)\n",
      "for file at wisdm-dataset/arff_files/watch/gyro/data_1603_gyro_watch.arffshape is: (324, 93)\n",
      "for file at wisdm-dataset/arff_files/watch/gyro/data_1604_gyro_watch.arffshape is: (324, 93)\n",
      "for file at wisdm-dataset/arff_files/watch/gyro/data_1605_gyro_watch.arffshape is: (330, 93)\n",
      "for file at wisdm-dataset/arff_files/watch/gyro/data_1606_gyro_watch.arffshape is: (324, 93)\n",
      "for file at wisdm-dataset/arff_files/watch/gyro/data_1607_gyro_watch.arffshape is: (329, 93)\n",
      "for file at wisdm-dataset/arff_files/watch/gyro/data_1608_gyro_watch.arffshape is: (340, 93)\n",
      "for file at wisdm-dataset/arff_files/watch/gyro/data_1609_gyro_watch.arffshape is: (348, 93)\n",
      "for file at wisdm-dataset/arff_files/watch/gyro/data_1610_gyro_watch.arffshape is: (324, 93)\n",
      "for file at wisdm-dataset/arff_files/watch/gyro/data_1611_gyro_watch.arffshape is: (324, 93)\n",
      "for file at wisdm-dataset/arff_files/watch/gyro/data_1612_gyro_watch.arffshape is: (326, 93)\n",
      "for file at wisdm-dataset/arff_files/watch/gyro/data_1613_gyro_watch.arffshape is: (324, 93)\n",
      "for file at wisdm-dataset/arff_files/watch/gyro/data_1615_gyro_watch.arffshape is: (324, 93)\n",
      "for file at wisdm-dataset/arff_files/watch/gyro/data_1616_gyro_watch.arffshape is: (306, 93)\n",
      "for file at wisdm-dataset/arff_files/watch/gyro/data_1617_gyro_watch.arffshape is: (334, 93)\n",
      "for file at wisdm-dataset/arff_files/watch/gyro/data_1618_gyro_watch.arffshape is: (306, 93)\n",
      "for file at wisdm-dataset/arff_files/watch/gyro/data_1619_gyro_watch.arffshape is: (324, 93)\n",
      "for file at wisdm-dataset/arff_files/watch/gyro/data_1620_gyro_watch.arffshape is: (335, 93)\n",
      "for file at wisdm-dataset/arff_files/watch/gyro/data_1621_gyro_watch.arffshape is: (356, 93)\n",
      "for file at wisdm-dataset/arff_files/watch/gyro/data_1622_gyro_watch.arffshape is: (324, 93)\n",
      "for file at wisdm-dataset/arff_files/watch/gyro/data_1623_gyro_watch.arffshape is: (324, 93)\n",
      "for file at wisdm-dataset/arff_files/watch/gyro/data_1624_gyro_watch.arffshape is: (356, 93)\n",
      "for file at wisdm-dataset/arff_files/watch/gyro/data_1625_gyro_watch.arffshape is: (333, 93)\n",
      "for file at wisdm-dataset/arff_files/watch/gyro/data_1626_gyro_watch.arffshape is: (336, 93)\n",
      "for file at wisdm-dataset/arff_files/watch/gyro/data_1627_gyro_watch.arffshape is: (324, 93)\n",
      "for file at wisdm-dataset/arff_files/watch/gyro/data_1628_gyro_watch.arffshape is: (351, 93)\n"
     ]
    },
    {
     "name": "stdout",
     "output_type": "stream",
     "text": [
      "for file at wisdm-dataset/arff_files/watch/gyro/data_1629_gyro_watch.arffshape is: (324, 93)\n",
      "for file at wisdm-dataset/arff_files/watch/gyro/data_1630_gyro_watch.arffshape is: (324, 93)\n",
      "for file at wisdm-dataset/arff_files/watch/gyro/data_1631_gyro_watch.arffshape is: (324, 93)\n",
      "for file at wisdm-dataset/arff_files/watch/gyro/data_1632_gyro_watch.arffshape is: (324, 93)\n",
      "for file at wisdm-dataset/arff_files/watch/gyro/data_1633_gyro_watch.arffshape is: (324, 93)\n",
      "for file at wisdm-dataset/arff_files/watch/gyro/data_1634_gyro_watch.arffshape is: (324, 93)\n",
      "for file at wisdm-dataset/arff_files/watch/gyro/data_1635_gyro_watch.arffshape is: (324, 93)\n",
      "for file at wisdm-dataset/arff_files/watch/gyro/data_1636_gyro_watch.arffshape is: (324, 93)\n",
      "for file at wisdm-dataset/arff_files/watch/gyro/data_1637_gyro_watch.arffshape is: (357, 93)\n",
      "for file at wisdm-dataset/arff_files/watch/gyro/data_1638_gyro_watch.arffshape is: (357, 93)\n",
      "for file at wisdm-dataset/arff_files/watch/gyro/data_1639_gyro_watch.arffshape is: (379, 93)\n",
      "for file at wisdm-dataset/arff_files/watch/gyro/data_1640_gyro_watch.arffshape is: (357, 93)\n",
      "for file at wisdm-dataset/arff_files/watch/gyro/data_1641_gyro_watch.arffshape is: (323, 93)\n",
      "for file at wisdm-dataset/arff_files/watch/gyro/data_1642_gyro_watch.arffshape is: (300, 93)\n",
      "for file at wisdm-dataset/arff_files/watch/gyro/data_1643_gyro_watch.arffshape is: (323, 93)\n",
      "for file at wisdm-dataset/arff_files/watch/gyro/data_1644_gyro_watch.arffshape is: (351, 93)\n",
      "for file at wisdm-dataset/arff_files/watch/gyro/data_1645_gyro_watch.arffshape is: (338, 93)\n",
      "for file at wisdm-dataset/arff_files/watch/gyro/data_1646_gyro_watch.arffshape is: (323, 93)\n",
      "for file at wisdm-dataset/arff_files/watch/gyro/data_1647_gyro_watch.arffshape is: (327, 93)\n",
      "for file at wisdm-dataset/arff_files/watch/gyro/data_1648_gyro_watch.arffshape is: (324, 93)\n",
      "for file at wisdm-dataset/arff_files/watch/gyro/data_1649_gyro_watch.arffshape is: (325, 93)\n",
      "for file at wisdm-dataset/arff_files/watch/gyro/data_1650_gyro_watch.arffshape is: (332, 93)\n",
      "(16533, 93)\n",
      "(16533, 91)\n",
      "(16533,)\n"
     ]
    }
   ],
   "source": [
    "###Importing all the 4 datasets into respective pandas dataframe\n",
    "###Cleaning the columns of each dataframe\n",
    "###Combining 18 class labels into 3 class labels\n",
    "\n",
    "phone_accel_df = pd.DataFrame()\n",
    "filenames = os.listdir('wisdm-dataset/arff_files/phone/accel')\n",
    "filenames.pop(0) ## to remove the \".DS_Store\" file from the list\n",
    "for file in filenames:\n",
    "    path = \"wisdm-dataset/arff_files/phone/accel/\" + file\n",
    "    data = arff.loadarff(path)\n",
    "    df = pd.DataFrame(data[0])\n",
    "    print(\"for file at \" + path + \"shape is: \" + str(df.shape))\n",
    "    frames = [df, phone_accel_df]\n",
    "    phone_accel_df = pd.concat(frames, sort = False)\n",
    "    \n",
    "print(phone_accel_df.shape)\n",
    "    \n",
    "phone_accel_old_column_names = phone_accel_df.columns\n",
    "\n",
    "### Cleaning the column names of the dataframe\n",
    "\n",
    "phone_accel_new_column_names = []\n",
    "for name in phone_accel_old_column_names:\n",
    "    phone_accel_new_column_names.append(name.replace('\"', ''))\n",
    "    \n",
    "### Replacing old column names with the cleaned column names\n",
    "\n",
    "replacement_dict = dict(zip(phone_accel_old_column_names, phone_accel_new_column_names))\n",
    "phone_accel_df = phone_accel_df.rename(columns = replacement_dict)\n",
    "\n",
    "phone_accel_df['ACTIVITY'] = phone_accel_df['ACTIVITY'].replace(to_replace = [b'A', b'B', b'C', b'D', b'E', b'M'], value = 0)\n",
    "phone_accel_df['ACTIVITY'] = phone_accel_df['ACTIVITY'].replace(to_replace = [b'F', b'G', b'O', b'P', b'Q', b'R', b'S'], value = 1)\n",
    "phone_accel_df['ACTIVITY'] = phone_accel_df['ACTIVITY'].replace(to_replace = [b'H', b'I', b'J', b'K', b'L'], value = 2)\n",
    "\n",
    "phone_accel_df.pop('class')\n",
    "\n",
    "phone_accel_df_shuffle = shuffle(phone_accel_df)\n",
    "\n",
    "phone_accel_data = phone_accel_df_shuffle.to_numpy()\n",
    "\n",
    "X_phone_accel = phone_accel_data[:,1:]\n",
    "Y_phone_accel = phone_accel_data[:,0]\n",
    "print(X_phone_accel.shape)\n",
    "print(Y_phone_accel.shape)\n",
    "\n",
    "x_train_phone_accel, x_test_phone_accel, y_train_phone_accel, y_test_phone_accel = train_test_split(X_phone_accel, Y_phone_accel, test_size = 0.2)\n",
    "\n",
    "##############################################################################\n",
    "\n",
    "phone_gyro_df = pd.DataFrame()\n",
    "filenames = os.listdir('wisdm-dataset/arff_files/phone/gyro')\n",
    "filenames.pop(0) ## to remove the \".DS_Store\" file from the list\n",
    "for file in filenames:\n",
    "    path = \"wisdm-dataset/arff_files/phone/gyro/\" + file\n",
    "    data = arff.loadarff(path)\n",
    "    df = pd.DataFrame(data[0])\n",
    "    print(\"for file at \" + path + \"shape is: \" + str(df.shape))\n",
    "    frames = [df, phone_gyro_df]\n",
    "    phone_gyro_df = pd.concat(frames, sort = False)\n",
    "    \n",
    "print(phone_gyro_df.shape)\n",
    "    \n",
    "phone_gyro_old_column_names = phone_gyro_df.columns\n",
    "\n",
    "### Cleaning the column names of the dataframe\n",
    "\n",
    "phone_gyro_new_column_names = []\n",
    "for name in phone_gyro_old_column_names:\n",
    "    phone_gyro_new_column_names.append(name.replace('\"', ''))\n",
    "    \n",
    "### Replacing old column names with the cleaned column names\n",
    "\n",
    "replacement_dict = dict(zip(phone_gyro_old_column_names, phone_gyro_new_column_names))\n",
    "phone_gyro_df = phone_gyro_df.rename(columns = replacement_dict)\n",
    "\n",
    "phone_gyro_df['ACTIVITY'] = phone_gyro_df['ACTIVITY'].replace(to_replace = [b'A', b'B', b'C', b'D', b'E', b'M'], value = 0)\n",
    "phone_gyro_df['ACTIVITY'] = phone_gyro_df['ACTIVITY'].replace(to_replace = [b'F', b'G', b'O', b'P', b'Q', b'R', b'S'], value = 1)\n",
    "phone_gyro_df['ACTIVITY'] = phone_gyro_df['ACTIVITY'].replace(to_replace = [b'H', b'I', b'J', b'K', b'L'], value = 2)\n",
    "\n",
    "phone_gyro_df.pop('class')\n",
    "\n",
    "phone_gyro_df_shuffle = shuffle(phone_gyro_df)\n",
    "\n",
    "phone_gyro_data = phone_gyro_df_shuffle.to_numpy()\n",
    "\n",
    "X_phone_gyro = phone_gyro_data[:,1:]\n",
    "Y_phone_gyro = phone_gyro_data[:,0]\n",
    "print(X_phone_gyro.shape)\n",
    "print(Y_phone_gyro.shape)\n",
    "\n",
    "x_train_phone_gyro, x_test_phone_gyro, y_train_phone_gyro, y_test_phone_gyro = train_test_split(X_phone_gyro, Y_phone_gyro, test_size = 0.2)\n",
    "\n",
    "\n",
    "###################################################################################################\n",
    "\n",
    "\n",
    "watch_accel_df = pd.DataFrame()\n",
    "filenames = os.listdir('wisdm-dataset/arff_files/watch/accel')\n",
    "filenames.pop(0) ## to remove the \".DS_Store\" file from the list\n",
    "for file in filenames:\n",
    "    path = \"wisdm-dataset/arff_files/watch/accel/\" + file\n",
    "    data = arff.loadarff(path)\n",
    "    df = pd.DataFrame(data[0])\n",
    "    print(\"for file at \" + path + \"shape is: \" + str(df.shape))\n",
    "    frames = [df, watch_accel_df]\n",
    "    watch_accel_df = pd.concat(frames, sort = False)\n",
    "    \n",
    "print(watch_accel_df.shape)\n",
    "    \n",
    "watch_accel_old_column_names = watch_accel_df.columns\n",
    "\n",
    "### Cleaning the column names of the dataframe\n",
    "\n",
    "watch_accel_new_column_names = []\n",
    "for name in watch_accel_old_column_names:\n",
    "    watch_accel_new_column_names.append(name.replace('\"', ''))\n",
    "    \n",
    "### Replacing old column names with the cleaned column names\n",
    "\n",
    "replacement_dict = dict(zip(watch_accel_old_column_names, watch_accel_new_column_names))\n",
    "watch_accel_df = watch_accel_df.rename(columns = replacement_dict)\n",
    "\n",
    "watch_accel_df['ACTIVITY'] = watch_accel_df['ACTIVITY'].replace(to_replace = [b'A', b'B', b'C', b'D', b'E', b'M'], value = 0)\n",
    "watch_accel_df['ACTIVITY'] = watch_accel_df['ACTIVITY'].replace(to_replace = [b'F', b'G', b'O', b'P', b'Q', b'R', b'S'], value = 1)\n",
    "watch_accel_df['ACTIVITY'] = watch_accel_df['ACTIVITY'].replace(to_replace = [b'H', b'I', b'J', b'K', b'L'], value = 2)\n",
    "\n",
    "watch_accel_df.pop('class')\n",
    "\n",
    "watch_accel_df_shuffle = shuffle(watch_accel_df)\n",
    "\n",
    "watch_accel_data = watch_accel_df_shuffle.to_numpy()\n",
    "\n",
    "X_watch_accel = watch_accel_data[:,1:]\n",
    "Y_watch_accel = watch_accel_data[:,0]\n",
    "print(X_watch_accel.shape)\n",
    "print(Y_watch_accel.shape)\n",
    "\n",
    "x_train_watch_accel, x_test_watch_accel, y_train_watch_accel, y_test_watch_accel = train_test_split(X_watch_accel, Y_watch_accel, test_size = 0.2)\n",
    "\n",
    "\n",
    "#############################################################################################\n",
    "\n",
    "\n",
    "watch_gyro_df = pd.DataFrame()\n",
    "filenames = os.listdir('wisdm-dataset/arff_files/watch/gyro')\n",
    "filenames.pop(0) ## to remove the \".DS_Store\" file from the list\n",
    "for file in filenames:\n",
    "    path = \"wisdm-dataset/arff_files/watch/gyro/\" + file\n",
    "    data = arff.loadarff(path)\n",
    "    df = pd.DataFrame(data[0])\n",
    "    print(\"for file at \" + path + \"shape is: \" + str(df.shape))\n",
    "    frames = [df, watch_gyro_df]\n",
    "    watch_gyro_df = pd.concat(frames, sort = False)\n",
    "    \n",
    "print(watch_gyro_df.shape)\n",
    "    \n",
    "watch_gyro_old_column_names = watch_gyro_df.columns\n",
    "\n",
    "### Cleaning the column names of the dataframe\n",
    "\n",
    "watch_gyro_new_column_names = []\n",
    "for name in watch_gyro_old_column_names:\n",
    "    watch_gyro_new_column_names.append(name.replace('\"', ''))\n",
    "\n",
    "### Replacing old column names with the cleaned column names\n",
    "\n",
    "replacement_dict = dict(zip(watch_gyro_old_column_names, watch_gyro_new_column_names))\n",
    "watch_gyro_df = watch_gyro_df.rename(columns = replacement_dict)\n",
    "\n",
    "watch_gyro_df['ACTIVITY'] = watch_gyro_df['ACTIVITY'].replace(to_replace = [b'A', b'B', b'C', b'D', b'E', b'M'], value = 0)\n",
    "watch_gyro_df['ACTIVITY'] = watch_gyro_df['ACTIVITY'].replace(to_replace = [b'F', b'G', b'O', b'P', b'Q', b'R', b'S'], value = 1)\n",
    "watch_gyro_df['ACTIVITY'] = watch_gyro_df['ACTIVITY'].replace(to_replace = [b'H', b'I', b'J', b'K', b'L'], value = 2)\n",
    "\n",
    "watch_gyro_df.pop('class')\n",
    "\n",
    "watch_gyro_df_shuffle = shuffle(watch_gyro_df)\n",
    "\n",
    "watch_gyro_data = watch_gyro_df_shuffle.to_numpy()\n",
    "\n",
    "X_watch_gyro = watch_gyro_data[:,1:]\n",
    "Y_watch_gyro = watch_gyro_data[:,0]\n",
    "print(X_watch_gyro.shape)\n",
    "print(Y_watch_gyro.shape)\n",
    "\n",
    "x_train_watch_gyro, x_test_watch_gyro, y_train_watch_gyro, y_test_watch_gyro = train_test_split(X_watch_gyro, Y_watch_gyro, test_size = 0.2)\n"
   ]
  },
  {
   "cell_type": "code",
   "execution_count": 3,
   "metadata": {},
   "outputs": [
    {
     "data": {
      "text/plain": [
       "array([0, 1, 2], dtype=int64)"
      ]
     },
     "execution_count": 3,
     "metadata": {},
     "output_type": "execute_result"
    }
   ],
   "source": [
    "phone_accel_df['ACTIVITY'].unique()"
   ]
  },
  {
   "cell_type": "code",
   "execution_count": 4,
   "metadata": {},
   "outputs": [
    {
     "data": {
      "image/png": "[encoded data removed]",
      "text/plain": [
       "<Figure size 864x432 with 1 Axes>"
      ]
     },
     "metadata": {
      "needs_background": "light"
     },
     "output_type": "display_data"
    }
   ],
   "source": [
    "###Performing PCA and seeing the plot of explained variance v/s the number of components\n",
    "\n",
    "x_train_phone_accel_pca = StandardScaler().fit_transform(x_train_phone_accel) # normalizing the features\n",
    "pca = PCA().fit(x_train_phone_accel_pca)\n",
    "\n",
    "plt.rcParams[\"figure.figsize\"] = (12,6)\n",
    "\n",
    "fig, ax = plt.subplots()\n",
    "xi = np.arange(1, 92, step=1)\n",
    "yi = np.cumsum(pca.explained_variance_ratio_)\n",
    "\n",
    "plt.ylim(0.0,1.1)\n",
    "plt.plot(xi, yi, marker='o', linestyle='--', color='b')\n",
    "\n",
    "plt.axhline(y=0.95, color='r', linestyle='-')\n",
    "plt.text(0.5, 0.85, '95% cut-off threshold', color = 'red', fontsize = 16)\n",
    "\n",
    "ax.grid(axis='x')\n",
    "plt.show()\n"
   ]
  },
  {
   "cell_type": "code",
   "execution_count": 5,
   "metadata": {},
   "outputs": [
    {
     "data": {
      "image/png": "[encoded data removed]",
      "text/plain": [
       "<Figure size 864x432 with 1 Axes>"
      ]
     },
     "metadata": {
      "needs_background": "light"
     },
     "output_type": "display_data"
    }
   ],
   "source": [
    "###Performing PCA and seeing the plot of explained variance v/s the number of components\n",
    "\n",
    "x_train_phone_gyro_pca = StandardScaler().fit_transform(x_train_phone_gyro) # normalizing the features\n",
    "pca = PCA().fit(x_train_phone_gyro_pca)\n",
    "\n",
    "plt.rcParams[\"figure.figsize\"] = (12,6)\n",
    "\n",
    "fig, ax = plt.subplots()\n",
    "xi = np.arange(1, 92, step=1)\n",
    "yi = np.cumsum(pca.explained_variance_ratio_)\n",
    "\n",
    "plt.ylim(0.0,1.1)\n",
    "plt.plot(xi, yi, marker='o', linestyle='--', color='b')\n",
    "\n",
    "plt.axhline(y=0.95, color='r', linestyle='-')\n",
    "plt.text(0.5, 0.85, '95% cut-off threshold', color = 'red', fontsize = 16)\n",
    "\n",
    "ax.grid(axis='x')\n",
    "plt.show()\n"
   ]
  },
  {
   "cell_type": "code",
   "execution_count": 6,
   "metadata": {},
   "outputs": [
    {
     "data": {
      "image/png": "[encoded data removed]",
      "text/plain": [
       "<Figure size 864x432 with 1 Axes>"
      ]
     },
     "metadata": {
      "needs_background": "light"
     },
     "output_type": "display_data"
    }
   ],
   "source": [
    "###Performing PCA and seeing the plot of explained variance v/s the number of components\n",
    "\n",
    "x_train_watch_accel_pca = StandardScaler().fit_transform(x_train_watch_accel) # normalizing the features\n",
    "pca = PCA().fit(x_train_watch_accel_pca)\n",
    "\n",
    "plt.rcParams[\"figure.figsize\"] = (12,6)\n",
    "\n",
    "fig, ax = plt.subplots()\n",
    "xi = np.arange(1, 92, step=1)\n",
    "yi = np.cumsum(pca.explained_variance_ratio_)\n",
    "\n",
    "plt.ylim(0.0,1.1)\n",
    "plt.plot(xi, yi, marker='o', linestyle='--', color='b')\n",
    "\n",
    "plt.axhline(y=0.95, color='r', linestyle='-')\n",
    "plt.text(0.5, 0.85, '95% cut-off threshold', color = 'red', fontsize = 16)\n",
    "\n",
    "ax.grid(axis='x')\n",
    "plt.show()\n"
   ]
  },
  {
   "cell_type": "code",
   "execution_count": 7,
   "metadata": {},
   "outputs": [
    {
     "data": {
      "image/png": "[encoded data removed]",
      "text/plain": [
       "<Figure size 864x432 with 1 Axes>"
      ]
     },
     "metadata": {
      "needs_background": "light"
     },
     "output_type": "display_data"
    }
   ],
   "source": [
    "###Performing PCA and seeing the plot of explained variance v/s the number of components\n",
    "\n",
    "x_train_watch_gyro_pca = StandardScaler().fit_transform(x_train_watch_gyro) # normalizing the features\n",
    "pca = PCA().fit(x_train_watch_gyro_pca)\n",
    "\n",
    "plt.rcParams[\"figure.figsize\"] = (12,6)\n",
    "\n",
    "fig, ax = plt.subplots()\n",
    "xi = np.arange(1, 92, step=1)\n",
    "yi = np.cumsum(pca.explained_variance_ratio_)\n",
    "\n",
    "plt.ylim(0.0,1.1)\n",
    "plt.plot(xi, yi, marker='o', linestyle='--', color='b')\n",
    "\n",
    "plt.axhline(y=0.95, color='r', linestyle='-')\n",
    "plt.text(0.5, 0.85, '95% cut-off threshold', color = 'red', fontsize = 16)\n",
    "\n",
    "ax.grid(axis='x')\n",
    "plt.show()\n"
   ]
  },
  {
   "cell_type": "code",
   "execution_count": 8,
   "metadata": {},
   "outputs": [],
   "source": [
    "## The number of components chosen from the explained varance graph are used to perform pca on the dataset\n",
    "\n",
    "pca1 = PCA(n_components = 28)\n",
    "pca1.fit(x_train_watch_accel)\n",
    "\n",
    "x_train_watch_accel_pca = pca1.transform(x_train_watch_accel)\n",
    "x_test_watch_accel_pca = pca1.transform(x_test_watch_accel)\n",
    "\n",
    "\n",
    "\n",
    "pca2 = PCA(n_components = 28)\n",
    "pca2.fit(x_train_phone_accel)\n",
    "\n",
    "x_train_phone_accel_pca = pca2.transform(x_train_phone_accel)\n",
    "x_test_phone_accel_pca = pca2.transform(x_test_phone_accel)\n",
    "\n",
    "\n",
    "\n",
    "pca3 = PCA(n_components = 23)\n",
    "pca3.fit(x_train_watch_gyro)\n",
    "\n",
    "x_train_watch_gyro_pca = pca3.transform(x_train_watch_gyro)\n",
    "x_test_watch_gyro_pca = pca3.transform(x_test_watch_gyro)\n",
    "\n",
    "\n",
    "\n",
    "pca4 = PCA(n_components = 23)\n",
    "pca4.fit(x_train_phone_gyro)\n",
    "\n",
    "x_train_phone_gyro_pca = pca4.transform(x_train_phone_gyro)\n",
    "x_test_phone_gyro_pca = pca4.transform(x_test_phone_gyro)"
   ]
  },
  {
   "cell_type": "code",
   "execution_count": 3,
   "metadata": {},
   "outputs": [],
   "source": [
    "##Function to print metrics\n",
    "\n",
    "def print_metrics(y_test, y_test_pred):\n",
    "    print(\"Precision:\")\n",
    "    print(\"average = Nonen: \", precision_score(y_test, y_test_pred, average = None))\n",
    "    print(\"average = micro: \", precision_score(y_test, y_test_pred, average = 'micro'))\n",
    "    print(\"average = macro: \", precision_score(y_test, y_test_pred, average = 'macro'))\n",
    "    print(\"average = weighted: \", precision_score(y_test, y_test_pred, average = 'weighted'))\n",
    "    \n",
    "    print(\"Recall:\")\n",
    "    print(\"average = Nonen: \", recall_score(y_test, y_test_pred, average = None))\n",
    "    print(\"average = micro: \", recall_score(y_test, y_test_pred, average = 'micro'))\n",
    "    print(\"average = macro: \", recall_score(y_test, y_test_pred, average = 'macro'))\n",
    "    print(\"average = weighted: \", recall_score(y_test, y_test_pred, average = 'weighted'))\n",
    "    \n",
    "    print(\"F1 Score:\")\n",
    "    print(\"average = Nonen: \", f1_score(y_test, y_test_pred, average = None))\n",
    "    print(\"average = micro: \", f1_score(y_test, y_test_pred, average = 'micro'))\n",
    "    print(\"average = macro: \", f1_score(y_test, y_test_pred, average = 'macro'))\n",
    "    print(\"average = weighted: \", f1_score(y_test, y_test_pred, average = 'weighted'))"
   ]
  },
  {
   "cell_type": "markdown",
   "metadata": {},
   "source": [
    "# Random Forest"
   ]
  },
  {
   "cell_type": "markdown",
   "metadata": {},
   "source": [
    "Running 8 Random Forest models. 2 models for eahc of the 4 datasets (with and without pca)"
   ]
  },
  {
   "cell_type": "code",
   "execution_count": 68,
   "metadata": {},
   "outputs": [
    {
     "name": "stdout",
     "output_type": "stream",
     "text": [
      "Train accuracy:  0.9905195297686765\n",
      "Test accuracy:  0.9250270855904659\n",
      "Precision:\n",
      "average = Nonen:  [0.94252874 0.9194847  0.9128044 ]\n",
      "average = micro:  0.9250270855904659\n",
      "average = macro:  0.9249392789276422\n",
      "average = weighted:  0.9252546121793253\n",
      "Recall:\n",
      "average = Nonen:  [0.92013201 0.92096774 0.93709677]\n",
      "average = micro:  0.9250270855904659\n",
      "average = macro:  0.9260655097767841\n",
      "average = weighted:  0.9250270855904659\n",
      "F1 Score:\n",
      "average = Nonen:  [0.93119572 0.92022562 0.92479109]\n",
      "average = micro:  0.9250270855904659\n",
      "average = macro:  0.9254041452100825\n",
      "average = weighted:  0.9250535496607923\n"
     ]
    }
   ],
   "source": [
    "clf = RandomForestClassifier(criterion = 'entropy', max_depth = 15, max_features = 'auto', min_samples_split = 4, n_estimators = 450, n_jobs = -1)\n",
    "\n",
    "clf.fit(x_train_phone_accel, y_train_phone_accel)\n",
    "\n",
    "y_train_pred = clf.predict(x_train_phone_accel)\n",
    "y_test_pred = clf.predict(x_test_phone_accel)\n",
    "\n",
    "\n",
    "train_acc = accuracy_score(y_train_phone_accel, y_train_pred)\n",
    "test_acc = accuracy_score(y_test_phone_accel, y_test_pred)\n",
    "\n",
    "print(\"Train accuracy: \", train_acc)\n",
    "print(\"Test accuracy: \", test_acc)\n",
    "\n",
    "print_metrics(y_test_phone_accel, y_test_pred)"
   ]
  },
  {
   "cell_type": "code",
   "execution_count": 69,
   "metadata": {},
   "outputs": [
    {
     "name": "stdout",
     "output_type": "stream",
     "text": [
      "Train accuracy:  0.9476273148148148\n",
      "Test accuracy:  0.7324269597917269\n",
      "Precision:\n",
      "average = Nonen:  [0.86192893 0.70977011 0.64351852]\n",
      "average = micro:  0.7324269597917269\n",
      "average = macro:  0.7384058558237331\n",
      "average = weighted:  0.7440641351942474\n",
      "Recall:\n",
      "average = Nonen:  [0.71464646 0.74285714 0.74014909]\n",
      "average = micro:  0.7324269597917269\n",
      "average = macro:  0.7325509007617633\n",
      "average = weighted:  0.7324269597917269\n",
      "F1 Score:\n",
      "average = Nonen:  [0.78140819 0.72593681 0.68845963]\n",
      "average = micro:  0.732426959791727\n",
      "average = macro:  0.7319348786968618\n",
      "average = weighted:  0.7348199265619062\n"
     ]
    }
   ],
   "source": [
    "clf = RandomForestClassifier(criterion = 'entropy', max_depth = 15, max_features = 'auto', min_samples_split = 4, n_estimators = 450, n_jobs = -1)\n",
    "\n",
    "clf.fit(x_train_phone_gyro, y_train_phone_gyro)\n",
    "\n",
    "y_train_pred = clf.predict(x_train_phone_gyro)\n",
    "y_test_pred = clf.predict(x_test_phone_gyro)\n",
    "\n",
    "\n",
    "train_acc = accuracy_score(y_train_phone_gyro, y_train_pred)\n",
    "test_acc = accuracy_score(y_test_phone_gyro, y_test_pred)\n",
    "\n",
    "print(\"Train accuracy: \", train_acc)\n",
    "print(\"Test accuracy: \", test_acc)\n",
    "\n",
    "print_metrics(y_test_phone_gyro, y_test_pred)"
   ]
  },
  {
   "cell_type": "code",
   "execution_count": 70,
   "metadata": {},
   "outputs": [
    {
     "name": "stdout",
     "output_type": "stream",
     "text": [
      "Train accuracy:  0.9980779791323449\n",
      "Test accuracy:  0.934120230579193\n",
      "Precision:\n",
      "average = Nonen:  [0.95238095 0.92434211 0.92871287]\n",
      "average = micro:  0.934120230579193\n",
      "average = macro:  0.9351453096437462\n",
      "average = weighted:  0.9346054129440897\n",
      "Recall:\n",
      "average = Nonen:  [0.89906701 0.95383571 0.94651867]\n",
      "average = micro:  0.934120230579193\n",
      "average = macro:  0.9331404611286227\n",
      "average = weighted:  0.934120230579193\n",
      "F1 Score:\n",
      "average = Nonen:  [0.92495637 0.93885733 0.93753123]\n",
      "average = micro:  0.934120230579193\n",
      "average = macro:  0.9337816460480579\n",
      "average = weighted:  0.9339977672629661\n"
     ]
    }
   ],
   "source": [
    "clf = RandomForestClassifier(criterion = 'entropy', max_depth = 15, max_features = 'auto', min_samples_split = 4, n_estimators = 450, n_jobs = -1)\n",
    "\n",
    "clf.fit(x_train_watch_accel, y_train_watch_accel)\n",
    "\n",
    "y_train_pred = clf.predict(x_train_watch_accel)\n",
    "y_test_pred = clf.predict(x_test_watch_accel)\n",
    "\n",
    "\n",
    "train_acc = accuracy_score(y_train_watch_accel, y_train_pred)\n",
    "test_acc = accuracy_score(y_test_watch_accel, y_test_pred)\n",
    "\n",
    "print(\"Train accuracy: \", train_acc)\n",
    "print(\"Test accuracy: \", test_acc)\n",
    "\n",
    "print_metrics(y_test_watch_accel, y_test_pred)"
   ]
  },
  {
   "cell_type": "code",
   "execution_count": 71,
   "metadata": {},
   "outputs": [
    {
     "name": "stdout",
     "output_type": "stream",
     "text": [
      "Train accuracy:  0.9903220928474218\n",
      "Test accuracy:  0.8575748412458422\n",
      "Precision:\n",
      "average = Nonen:  [0.87918782 0.87160121 0.81763527]\n",
      "average = micro:  0.8575748412458422\n",
      "average = macro:  0.8561414320863934\n",
      "average = weighted:  0.8587744573317739\n",
      "Recall:\n",
      "average = Nonen:  [0.80633147 0.8904321  0.87086446]\n",
      "average = micro:  0.8575748412458422\n",
      "average = macro:  0.8558760103157544\n",
      "average = weighted:  0.8575748412458422\n",
      "F1 Score:\n",
      "average = Nonen:  [0.84118504 0.88091603 0.84341085]\n",
      "average = micro:  0.8575748412458422\n",
      "average = macro:  0.8551706415099017\n",
      "average = weighted:  0.8573861139709174\n"
     ]
    }
   ],
   "source": [
    "clf = RandomForestClassifier(criterion = 'entropy', max_depth = 15, max_features = 'auto', min_samples_split = 4, n_estimators = 450, n_jobs = -1)\n",
    "\n",
    "clf.fit(x_train_watch_gyro, y_train_watch_gyro)\n",
    "\n",
    "y_train_pred = clf.predict(x_train_watch_gyro)\n",
    "y_test_pred = clf.predict(x_test_watch_gyro)\n",
    "\n",
    "\n",
    "train_acc = accuracy_score(y_train_watch_gyro, y_train_pred)\n",
    "test_acc = accuracy_score(y_test_watch_gyro, y_test_pred)\n",
    "\n",
    "print(\"Train accuracy: \", train_acc)\n",
    "print(\"Test accuracy: \", test_acc)\n",
    "\n",
    "print_metrics(y_test_watch_gyro, y_test_pred)"
   ]
  },
  {
   "cell_type": "code",
   "execution_count": 72,
   "metadata": {},
   "outputs": [
    {
     "name": "stdout",
     "output_type": "stream",
     "text": [
      "Train accuracy:  0.9908445744623219\n",
      "Test accuracy:  0.9109425785482124\n",
      "Precision:\n",
      "average = Nonen:  [0.93035835 0.89785228 0.90790546]\n",
      "average = micro:  0.9109425785482124\n",
      "average = macro:  0.9120386964630938\n",
      "average = weighted:  0.9112244658590135\n",
      "Recall:\n",
      "average = Nonen:  [0.90825083 0.92150538 0.8983871 ]\n",
      "average = micro:  0.9109425785482124\n",
      "average = macro:  0.9093810994002626\n",
      "average = weighted:  0.9109425785482124\n",
      "F1 Score:\n",
      "average = Nonen:  [0.91917168 0.90952507 0.9031212 ]\n",
      "average = micro:  0.9109425785482124\n",
      "average = macro:  0.9106059831627391\n",
      "average = weighted:  0.910971183898526\n"
     ]
    }
   ],
   "source": [
    "clf = RandomForestClassifier(criterion = 'entropy', max_depth = 15, max_features = 'auto', min_samples_split = 4, n_estimators = 450, n_jobs = -1)\n",
    "\n",
    "clf.fit(x_train_phone_accel_pca, y_train_phone_accel)\n",
    "\n",
    "y_train_pred = clf.predict(x_train_phone_accel_pca)\n",
    "y_test_pred = clf.predict(x_test_phone_accel_pca)\n",
    "\n",
    "\n",
    "train_acc = accuracy_score(y_train_phone_accel, y_train_pred)\n",
    "test_acc = accuracy_score(y_test_phone_accel, y_test_pred)\n",
    "\n",
    "print(\"Train accuracy: \", train_acc)\n",
    "print(\"Test accuracy: \", test_acc)\n",
    "\n",
    "print_metrics(y_test_phone_accel, y_test_pred)"
   ]
  },
  {
   "cell_type": "code",
   "execution_count": 73,
   "metadata": {},
   "outputs": [
    {
     "name": "stdout",
     "output_type": "stream",
     "text": [
      "Train accuracy:  0.9481336805555556\n",
      "Test accuracy:  0.7411050043390223\n",
      "Precision:\n",
      "average = Nonen:  [0.8722966  0.71848138 0.65321101]\n",
      "average = micro:  0.7411050043390223\n",
      "average = macro:  0.7479963286580968\n",
      "average = weighted:  0.753611145314988\n",
      "Recall:\n",
      "average = Nonen:  [0.71296296 0.75413534 0.75825346]\n",
      "average = micro:  0.7411050043390223\n",
      "average = macro:  0.7417839208125626\n",
      "average = weighted:  0.7411050043390223\n",
      "F1 Score:\n",
      "average = Nonen:  [0.78462251 0.73587674 0.70182356]\n",
      "average = micro:  0.7411050043390222\n",
      "average = macro:  0.740774270434823\n",
      "average = weighted:  0.7433786321143937\n"
     ]
    }
   ],
   "source": [
    "clf = RandomForestClassifier(criterion = 'entropy', max_depth = 15, max_features = 'auto', min_samples_split = 4, n_estimators = 450, n_jobs = -1)\n",
    "\n",
    "clf.fit(x_train_phone_gyro_pca, y_train_phone_gyro)\n",
    "\n",
    "y_train_pred = clf.predict(x_train_phone_gyro_pca)\n",
    "y_test_pred = clf.predict(x_test_phone_gyro_pca)\n",
    "\n",
    "\n",
    "train_acc = accuracy_score(y_train_phone_gyro, y_train_pred)\n",
    "test_acc = accuracy_score(y_test_phone_gyro, y_test_pred)\n",
    "\n",
    "print(\"Train accuracy: \", train_acc)\n",
    "print(\"Test accuracy: \", test_acc)\n",
    "\n",
    "print_metrics(y_test_phone_gyro, y_test_pred)"
   ]
  },
  {
   "cell_type": "code",
   "execution_count": 74,
   "metadata": {},
   "outputs": [
    {
     "name": "stdout",
     "output_type": "stream",
     "text": [
      "Train accuracy:  0.996499176276771\n",
      "Test accuracy:  0.9283557507548723\n",
      "Precision:\n",
      "average = Nonen:  [0.95238095 0.91546527 0.92131474]\n",
      "average = micro:  0.9283557507548723\n",
      "average = macro:  0.9297203206976956\n",
      "average = weighted:  0.9290036760866962\n",
      "Recall:\n",
      "average = Nonen:  [0.89906701 0.94840462 0.93340061]\n",
      "average = micro:  0.9283557507548723\n",
      "average = macro:  0.9269574092717776\n",
      "average = weighted:  0.9283557507548723\n",
      "F1 Score:\n",
      "average = Nonen:  [0.92495637 0.93164388 0.9273183 ]\n",
      "average = micro:  0.9283557507548723\n",
      "average = macro:  0.9279728490052204\n",
      "average = weighted:  0.9283028900446977\n"
     ]
    }
   ],
   "source": [
    "clf = RandomForestClassifier(criterion = 'entropy', max_depth = 15, max_features = 'auto', min_samples_split = 4, n_estimators = 450, n_jobs = -1)\n",
    "\n",
    "clf.fit(x_train_watch_accel_pca, y_train_watch_accel)\n",
    "\n",
    "y_train_pred = clf.predict(x_train_watch_accel_pca)\n",
    "y_test_pred = clf.predict(x_test_watch_accel_pca)\n",
    "\n",
    "\n",
    "train_acc = accuracy_score(y_train_watch_accel, y_train_pred)\n",
    "test_acc = accuracy_score(y_test_watch_accel, y_test_pred)\n",
    "\n",
    "print(\"Train accuracy: \", train_acc)\n",
    "print(\"Test accuracy: \", test_acc)\n",
    "\n",
    "print_metrics(y_test_watch_accel, y_test_pred)"
   ]
  },
  {
   "cell_type": "code",
   "execution_count": 75,
   "metadata": {},
   "outputs": [
    {
     "name": "stdout",
     "output_type": "stream",
     "text": [
      "Train accuracy:  0.989187963102979\n",
      "Test accuracy:  0.8693680072573329\n",
      "Precision:\n",
      "average = Nonen:  [0.87812188 0.87806691 0.84807492]\n",
      "average = micro:  0.8693680072573329\n",
      "average = macro:  0.8680879048587716\n",
      "average = weighted:  0.8695868824207854\n",
      "Recall:\n",
      "average = Nonen:  [0.81843575 0.91126543 0.86979723]\n",
      "average = micro:  0.8693680072573329\n",
      "average = macro:  0.8664994704918253\n",
      "average = weighted:  0.8693680072573329\n",
      "F1 Score:\n",
      "average = Nonen:  [0.84722892 0.8943582  0.85879874]\n",
      "average = micro:  0.8693680072573329\n",
      "average = macro:  0.8667952829420398\n",
      "average = weighted:  0.8689768656646718\n"
     ]
    }
   ],
   "source": [
    "clf = RandomForestClassifier(criterion = 'entropy', max_depth = 15, max_features = 'auto', min_samples_split = 4, n_estimators = 450, n_jobs = -1)\n",
    "\n",
    "clf.fit(x_train_watch_gyro_pca, y_train_watch_gyro)\n",
    "\n",
    "y_train_pred = clf.predict(x_train_watch_gyro_pca)\n",
    "y_test_pred = clf.predict(x_test_watch_gyro_pca)\n",
    "\n",
    "\n",
    "train_acc = accuracy_score(y_train_watch_gyro, y_train_pred)\n",
    "test_acc = accuracy_score(y_test_watch_gyro, y_test_pred)\n",
    "\n",
    "print(\"Train accuracy: \", train_acc)\n",
    "print(\"Test accuracy: \", test_acc)\n",
    "\n",
    "print_metrics(y_test_watch_gyro, y_test_pred)"
   ]
  },
  {
   "cell_type": "markdown",
   "metadata": {},
   "source": [
    "# XGBOOST"
   ]
  },
  {
   "cell_type": "markdown",
   "metadata": {},
   "source": [
    "Running 8 Random Forest models. 2 models for eahc of the 4 datasets (with and without pca)"
   ]
  },
  {
   "cell_type": "code",
   "execution_count": 4,
   "metadata": {
    "scrolled": true
   },
   "outputs": [
    {
     "name": "stderr",
     "output_type": "stream",
     "text": [
      "C:\\Users\\ASUS\\anaconda3\\lib\\site-packages\\xgboost\\sklearn.py:1224: UserWarning: The use of label encoder in XGBClassifier is deprecated and will be removed in a future release. To remove this warning, do the following: 1) Pass option use_label_encoder=False when constructing XGBClassifier object; and 2) Encode your labels (y) as integers starting with 0, i.e. 0, 1, 2, ..., [num_class - 1].\n",
      "  warnings.warn(label_encoder_deprecation_msg, UserWarning)\n"
     ]
    },
    {
     "name": "stdout",
     "output_type": "stream",
     "text": [
      "[18:19:08] WARNING: C:/Users/Administrator/workspace/xgboost-win64_release_1.5.1/src/learner.cc:576: \n",
      "Parameters: { \"scale_pos_weight\" } might not be used.\n",
      "\n",
      "  This could be a false alarm, with some parameters getting used by language bindings but\n",
      "  then being mistakenly passed down to XGBoost core, or some parameter actually being used\n",
      "  but getting flagged wrongly here. Please open an issue if you find any such cases.\n",
      "\n",
      "\n",
      "[18:19:08] WARNING: C:/Users/Administrator/workspace/xgboost-win64_release_1.5.1/src/learner.cc:1115: Starting in XGBoost 1.3.0, the default evaluation metric used with the objective 'multi:softprob' was changed from 'merror' to 'mlogloss'. Explicitly set eval_metric if you'd like to restore the old behavior.\n",
      "Train accuracy:  0.9968579012947614\n",
      "Test accuracy:  0.9328277356446371\n",
      "Precision:\n",
      "average = Nonen:  [0.95518395 0.91956522 0.92578125]\n",
      "average = micro:  0.9328277356446371\n",
      "average = macro:  0.9335101379598663\n",
      "average = weighted:  0.9332283464745251\n",
      "Recall:\n",
      "average = Nonen:  [0.92188509 0.94104561 0.93454259]\n",
      "average = micro:  0.9328277356446371\n",
      "average = macro:  0.9324910933776446\n",
      "average = weighted:  0.9328277356446371\n",
      "F1 Score:\n",
      "average = Nonen:  [0.93823916 0.93018142 0.93014129]\n",
      "average = micro:  0.9328277356446371\n",
      "average = macro:  0.9328539548823986\n",
      "average = weighted:  0.9328749295306034\n"
     ]
    }
   ],
   "source": [
    "clf1 = xgb.XGBClassifier(eta = 0.4, colsample_bytree = 0.409, gamma = 1.43, max_depth = 18, min_child_weight = 4, \n",
    "                        n_estimators = 400, reg_alpha = 3.08, reg_lambda = 0.368, \n",
    "                        colsample_bylevel = 0.483, max_delta_step = 1, scale_pos_weight = 0.7, subsample = 0.89, \n",
    "                        objective = 'multi:softmax')\n",
    "\n",
    "clf1.fit(x_train_phone_accel, y_train_phone_accel)\n",
    "\n",
    "y_train_pred = clf1.predict(x_train_phone_accel)\n",
    "y_test_pred = clf1.predict(x_test_phone_accel)\n",
    "\n",
    "train_acc = accuracy_score(y_train_phone_accel, y_train_pred)\n",
    "test_acc = accuracy_score(y_test_phone_accel, y_test_pred)\n",
    "\n",
    "print(\"Train accuracy: \", train_acc)\n",
    "print(\"Test accuracy: \", test_acc)\n",
    "\n",
    "print_metrics(y_test_phone_accel, y_test_pred)"
   ]
  },
  {
   "cell_type": "code",
   "execution_count": 5,
   "metadata": {},
   "outputs": [],
   "source": [
    "importance = clf1.feature_importances_"
   ]
  },
  {
   "cell_type": "code",
   "execution_count": 6,
   "metadata": {},
   "outputs": [],
   "source": [
    "idx = np.argsort(importance)[::-1]"
   ]
  },
  {
   "cell_type": "code",
   "execution_count": 7,
   "metadata": {},
   "outputs": [
    {
     "data": {
      "text/plain": [
       "array([0.05992655, 0.05123917, 0.04950681, 0.02985088, 0.02757251,\n",
       "       0.02366157, 0.02011048, 0.01784556, 0.01771195, 0.01708656,\n",
       "       0.01700466, 0.0165332 , 0.01588153, 0.01535325, 0.0134061 ,\n",
       "       0.01305229, 0.01292651, 0.01283267, 0.01273133, 0.01250603,\n",
       "       0.01203447, 0.01194022, 0.01188137, 0.01183013, 0.0115454 ,\n",
       "       0.01134347, 0.01120454, 0.01113561, 0.01017684, 0.00994247,\n",
       "       0.0097764 , 0.0097284 , 0.00949106, 0.00939906, 0.00936231,\n",
       "       0.00917187, 0.00916029, 0.00907565, 0.00882065, 0.00871939,\n",
       "       0.00861229, 0.00853894, 0.00850878, 0.00845559, 0.00828111,\n",
       "       0.00824323, 0.00819169, 0.00812916, 0.00807227, 0.00802617,\n",
       "       0.00792605, 0.00792598, 0.00792174, 0.00789878, 0.00774571,\n",
       "       0.007657  , 0.00759067, 0.00754106, 0.00735515, 0.00734661,\n",
       "       0.00733757, 0.00698933, 0.0069476 , 0.00693487, 0.00666993,\n",
       "       0.00659935, 0.00656617, 0.00651677, 0.0063927 , 0.00635252,\n",
       "       0.00632388, 0.00630215, 0.00627108, 0.00623835, 0.00608832,\n",
       "       0.00599426, 0.00595179, 0.00586103, 0.00573063, 0.00559357,\n",
       "       0.00546227, 0.00546173, 0.00511541, 0.00490617, 0.00478545,\n",
       "       0.00468346, 0.00442085, 0.00439468, 0.00387061, 0.00354231,\n",
       "       0.00324791], dtype=float32)"
      ]
     },
     "execution_count": 7,
     "metadata": {},
     "output_type": "execute_result"
    }
   ],
   "source": [
    "importance[idx]"
   ]
  },
  {
   "cell_type": "code",
   "execution_count": 8,
   "metadata": {},
   "outputs": [],
   "source": [
    "column_names = phone_accel_df.columns\n",
    "column_names = column_names[1:]"
   ]
  },
  {
   "cell_type": "code",
   "execution_count": 9,
   "metadata": {},
   "outputs": [
    {
     "data": {
      "text/plain": [
       "Index(['X0', 'X1', 'X2', 'X3', 'X4', 'X5', 'X6', 'X7', 'X8', 'X9', 'Y0', 'Y1',\n",
       "       'Y2', 'Y3', 'Y4', 'Y5', 'Y6', 'Y7', 'Y8', 'Y9', 'Z0', 'Z1', 'Z2', 'Z3',\n",
       "       'Z4', 'Z5', 'Z6', 'Z7', 'Z8', 'Z9', 'XAVG', 'YAVG', 'ZAVG', 'XPEAK',\n",
       "       'YPEAK', 'ZPEAK', 'XABSOLDEV', 'YABSOLDEV', 'ZABSOLDEV', 'XSTANDDEV',\n",
       "       'YSTANDDEV', 'ZSTANDDEV', 'XVAR', 'YVAR', 'ZVAR', 'XMFCC0', 'XMFCC1',\n",
       "       'XMFCC2', 'XMFCC3', 'XMFCC4', 'XMFCC5', 'XMFCC6', 'XMFCC7', 'XMFCC8',\n",
       "       'XMFCC9', 'XMFCC10', 'XMFCC11', 'XMFCC12', 'YMFCC0', 'YMFCC1', 'YMFCC2',\n",
       "       'YMFCC3', 'YMFCC4', 'YMFCC5', 'YMFCC6', 'YMFCC7', 'YMFCC8', 'YMFCC9',\n",
       "       'YMFCC10', 'YMFCC11', 'YMFCC12', 'ZMFCC0', 'ZMFCC1', 'ZMFCC2', 'ZMFCC3',\n",
       "       'ZMFCC4', 'ZMFCC5', 'ZMFCC6', 'ZMFCC7', 'ZMFCC8', 'ZMFCC9', 'ZMFCC10',\n",
       "       'ZMFCC11', 'ZMFCC12', 'XYCOS', 'XZCOS', 'YZCOS', 'XYCOR', 'XZCOR',\n",
       "       'YZCOR', 'RESULTANT'],\n",
       "      dtype='object')"
      ]
     },
     "execution_count": 9,
     "metadata": {},
     "output_type": "execute_result"
    }
   ],
   "source": [
    "column_names"
   ]
  },
  {
   "cell_type": "code",
   "execution_count": 18,
   "metadata": {},
   "outputs": [
    {
     "data": {
      "text/plain": [
       "Text(0.5, 1.0, 'Phone Accelerometer')"
      ]
     },
     "execution_count": 18,
     "metadata": {},
     "output_type": "execute_result"
    },
    {
     "data": {
      "image/png": "[encoded data removed]",
      "text/plain": [
       "<Figure size 864x432 with 1 Axes>"
      ]
     },
     "metadata": {},
     "output_type": "display_data"
    }
   ],
   "source": [
    "##Plot of top 10 important features\n",
    "\n",
    "#sns.set(rc={\"figure.figsize\":(12, 6)}) \n",
    "\n",
    "sns.barplot(x = column_names[idx][0:10], y = importance[idx][0:10])\n",
    "plt.title(\"Phone Accelerometer\")"
   ]
  },
  {
   "cell_type": "code",
   "execution_count": 11,
   "metadata": {},
   "outputs": [
    {
     "name": "stderr",
     "output_type": "stream",
     "text": [
      "C:\\Users\\ASUS\\anaconda3\\lib\\site-packages\\xgboost\\sklearn.py:1224: UserWarning: The use of label encoder in XGBClassifier is deprecated and will be removed in a future release. To remove this warning, do the following: 1) Pass option use_label_encoder=False when constructing XGBClassifier object; and 2) Encode your labels (y) as integers starting with 0, i.e. 0, 1, 2, ..., [num_class - 1].\n",
      "  warnings.warn(label_encoder_deprecation_msg, UserWarning)\n"
     ]
    },
    {
     "name": "stdout",
     "output_type": "stream",
     "text": [
      "[18:19:58] WARNING: C:/Users/Administrator/workspace/xgboost-win64_release_1.5.1/src/learner.cc:576: \n",
      "Parameters: { \"scale_pos_weight\" } might not be used.\n",
      "\n",
      "  This could be a false alarm, with some parameters getting used by language bindings but\n",
      "  then being mistakenly passed down to XGBoost core, or some parameter actually being used\n",
      "  but getting flagged wrongly here. Please open an issue if you find any such cases.\n",
      "\n",
      "\n",
      "[18:19:58] WARNING: C:/Users/Administrator/workspace/xgboost-win64_release_1.5.1/src/learner.cc:1115: Starting in XGBoost 1.3.0, the default evaluation metric used with the objective 'multi:softprob' was changed from 'merror' to 'mlogloss'. Explicitly set eval_metric if you'd like to restore the old behavior.\n",
      "Train accuracy:  0.9935619212962963\n",
      "Test accuracy:  0.7789991321955453\n",
      "Precision:\n",
      "average = Nonen:  [0.8576779  0.77555556 0.70259865]\n",
      "average = micro:  0.7789991321955453\n",
      "average = macro:  0.7786107035759359\n",
      "average = weighted:  0.7835089424366992\n",
      "Recall:\n",
      "average = Nonen:  [0.77824979 0.78603604 0.77004219]\n",
      "average = micro:  0.7789991321955453\n",
      "average = macro:  0.7781093392414817\n",
      "average = weighted:  0.7789991321955453\n",
      "F1 Score:\n",
      "average = Nonen:  [0.81603563 0.78076063 0.73477604]\n",
      "average = micro:  0.7789991321955453\n",
      "average = macro:  0.7771907684766522\n",
      "average = weighted:  0.780160482048267\n"
     ]
    }
   ],
   "source": [
    "clf2 = xgb.XGBClassifier(eta = 0.4, colsample_bytree = 0.409, gamma = 1.43, max_depth = 18, min_child_weight = 4, \n",
    "                        n_estimators = 400, reg_alpha = 3.08, reg_lambda = 0.368, \n",
    "                        colsample_bylevel = 0.483, max_delta_step = 1, scale_pos_weight = 0.7, subsample = 0.89, \n",
    "                        objective = 'multi:softmax')\n",
    "\n",
    "clf2.fit(x_train_phone_gyro, y_train_phone_gyro)\n",
    "\n",
    "y_train_pred = clf2.predict(x_train_phone_gyro)\n",
    "y_test_pred = clf2.predict(x_test_phone_gyro)\n",
    "\n",
    "train_acc = accuracy_score(y_train_phone_gyro, y_train_pred)\n",
    "test_acc = accuracy_score(y_test_phone_gyro, y_test_pred)\n",
    "\n",
    "print(\"Train accuracy: \", train_acc)\n",
    "print(\"Test accuracy: \", test_acc)\n",
    "\n",
    "print_metrics(y_test_phone_gyro, y_test_pred)"
   ]
  },
  {
   "cell_type": "code",
   "execution_count": 19,
   "metadata": {},
   "outputs": [
    {
     "data": {
      "text/plain": [
       "Text(0.5, 1.0, 'Phone Gyroscope')"
      ]
     },
     "execution_count": 19,
     "metadata": {},
     "output_type": "execute_result"
    },
    {
     "data": {
      "image/png": "[encoded data removed]",
      "text/plain": [
       "<Figure size 864x432 with 1 Axes>"
      ]
     },
     "metadata": {},
     "output_type": "display_data"
    }
   ],
   "source": [
    "##Plot of top 10 important features\n",
    "\n",
    "importance = clf2.feature_importances_\n",
    "\n",
    "idx = np.argsort(importance)[::-1]\n",
    "\n",
    "#importance[idx]\n",
    "\n",
    "column_names = phone_gyro_df.columns\n",
    "column_names = column_names[1:]\n",
    "\n",
    "#sns.set(rc={\"figure.figsize\":(12, 6)}) \n",
    "\n",
    "sns.barplot(x = column_names[idx][0:10], y = importance[idx][0:10])\n",
    "\n",
    "plt.title(\"Phone Gyroscope\")"
   ]
  },
  {
   "cell_type": "code",
   "execution_count": 13,
   "metadata": {},
   "outputs": [
    {
     "name": "stderr",
     "output_type": "stream",
     "text": [
      "C:\\Users\\ASUS\\anaconda3\\lib\\site-packages\\xgboost\\sklearn.py:1224: UserWarning: The use of label encoder in XGBClassifier is deprecated and will be removed in a future release. To remove this warning, do the following: 1) Pass option use_label_encoder=False when constructing XGBClassifier object; and 2) Encode your labels (y) as integers starting with 0, i.e. 0, 1, 2, ..., [num_class - 1].\n",
      "  warnings.warn(label_encoder_deprecation_msg, UserWarning)\n"
     ]
    },
    {
     "name": "stdout",
     "output_type": "stream",
     "text": [
      "[18:20:45] WARNING: C:/Users/Administrator/workspace/xgboost-win64_release_1.5.1/src/learner.cc:576: \n",
      "Parameters: { \"scale_pos_weight\" } might not be used.\n",
      "\n",
      "  This could be a false alarm, with some parameters getting used by language bindings but\n",
      "  then being mistakenly passed down to XGBoost core, or some parameter actually being used\n",
      "  but getting flagged wrongly here. Please open an issue if you find any such cases.\n",
      "\n",
      "\n",
      "[18:20:45] WARNING: C:/Users/Administrator/workspace/xgboost-win64_release_1.5.1/src/learner.cc:1115: Starting in XGBoost 1.3.0, the default evaluation metric used with the objective 'multi:softprob' was changed from 'merror' to 'mlogloss'. Explicitly set eval_metric if you'd like to restore the old behavior.\n",
      "Train accuracy:  0.9950576606260296\n",
      "Test accuracy:  0.9412572055997804\n",
      "Precision:\n",
      "average = Nonen:  [0.95084746 0.93975069 0.93228656]\n",
      "average = micro:  0.9412572055997804\n",
      "average = macro:  0.9409615685314702\n",
      "average = weighted:  0.9413813695158876\n",
      "Recall:\n",
      "average = Nonen:  [0.92727273 0.94895105 0.94715852]\n",
      "average = micro:  0.9412572055997804\n",
      "average = macro:  0.9411274335501654\n",
      "average = weighted:  0.9412572055997804\n",
      "F1 Score:\n",
      "average = Nonen:  [0.93891213 0.94432846 0.9396637 ]\n",
      "average = micro:  0.9412572055997805\n",
      "average = macro:  0.940968098424198\n",
      "average = weighted:  0.9412451477297258\n"
     ]
    }
   ],
   "source": [
    "clf3 = xgb.XGBClassifier(eta = 0.4, colsample_bytree = 0.409, gamma = 1.43, max_depth = 18, min_child_weight = 4, \n",
    "                        n_estimators = 400, reg_alpha = 3.08, reg_lambda = 0.368, \n",
    "                        colsample_bylevel = 0.483, max_delta_step = 1, scale_pos_weight = 0.7, subsample = 0.89, \n",
    "                        objective = 'multi:softmax')\n",
    "\n",
    "clf3.fit(x_train_watch_accel, y_train_watch_accel)\n",
    "\n",
    "y_train_pred = clf3.predict(x_train_watch_accel)\n",
    "y_test_pred = clf3.predict(x_test_watch_accel)\n",
    "\n",
    "train_acc = accuracy_score(y_train_watch_accel, y_train_pred)\n",
    "test_acc = accuracy_score(y_test_watch_accel, y_test_pred)\n",
    "\n",
    "print(\"Train accuracy: \", train_acc)\n",
    "print(\"Test accuracy: \", test_acc)\n",
    "\n",
    "print_metrics(y_test_watch_accel, y_test_pred)"
   ]
  },
  {
   "cell_type": "code",
   "execution_count": 20,
   "metadata": {},
   "outputs": [
    {
     "data": {
      "text/plain": [
       "Text(0.5, 1.0, 'Watch Accelerometer')"
      ]
     },
     "execution_count": 20,
     "metadata": {},
     "output_type": "execute_result"
    },
    {
     "data": {
      "image/png": "[encoded data removed]",
      "text/plain": [
       "<Figure size 864x432 with 1 Axes>"
      ]
     },
     "metadata": {},
     "output_type": "display_data"
    }
   ],
   "source": [
    "##Plot of top 10 important features\n",
    "\n",
    "importance = clf3.feature_importances_\n",
    "\n",
    "idx = np.argsort(importance)[::-1]\n",
    "\n",
    "#importance[idx]\n",
    "\n",
    "column_names = watch_accel_df.columns\n",
    "column_names = column_names[1:]\n",
    "\n",
    "#sns.set(rc={\"figure.figsize\":(12, 6)}) \n",
    "\n",
    "sns.barplot(x = column_names[idx][0:10], y = importance[idx][0:10])\n",
    "\n",
    "plt.title(\"Watch Accelerometer\")"
   ]
  },
  {
   "cell_type": "code",
   "execution_count": 15,
   "metadata": {},
   "outputs": [
    {
     "name": "stderr",
     "output_type": "stream",
     "text": [
      "C:\\Users\\ASUS\\anaconda3\\lib\\site-packages\\xgboost\\sklearn.py:1224: UserWarning: The use of label encoder in XGBClassifier is deprecated and will be removed in a future release. To remove this warning, do the following: 1) Pass option use_label_encoder=False when constructing XGBClassifier object; and 2) Encode your labels (y) as integers starting with 0, i.e. 0, 1, 2, ..., [num_class - 1].\n",
      "  warnings.warn(label_encoder_deprecation_msg, UserWarning)\n"
     ]
    },
    {
     "name": "stdout",
     "output_type": "stream",
     "text": [
      "[18:21:19] WARNING: C:/Users/Administrator/workspace/xgboost-win64_release_1.5.1/src/learner.cc:576: \n",
      "Parameters: { \"scale_pos_weight\" } might not be used.\n",
      "\n",
      "  This could be a false alarm, with some parameters getting used by language bindings but\n",
      "  then being mistakenly passed down to XGBoost core, or some parameter actually being used\n",
      "  but getting flagged wrongly here. Please open an issue if you find any such cases.\n",
      "\n",
      "\n",
      "[18:21:19] WARNING: C:/Users/Administrator/workspace/xgboost-win64_release_1.5.1/src/learner.cc:1115: Starting in XGBoost 1.3.0, the default evaluation metric used with the objective 'multi:softprob' was changed from 'merror' to 'mlogloss'. Explicitly set eval_metric if you'd like to restore the old behavior.\n",
      "Train accuracy:  0.9925147436866778\n",
      "Test accuracy:  0.8739038403386755\n",
      "Precision:\n",
      "average = Nonen:  [0.88702148 0.88586957 0.842827  ]\n",
      "average = micro:  0.8739038403386755\n",
      "average = macro:  0.8719060148978567\n",
      "average = weighted:  0.8743669216106003\n",
      "Recall:\n",
      "average = Nonen:  [0.84070796 0.90340459 0.87417943]\n",
      "average = micro:  0.8739038403386755\n",
      "average = macro:  0.872763995971559\n",
      "average = weighted:  0.8739038403386755\n",
      "F1 Score:\n",
      "average = Nonen:  [0.86324398 0.89455116 0.85821697]\n",
      "average = micro:  0.8739038403386756\n",
      "average = macro:  0.8720040358057547\n",
      "average = weighted:  0.8738113454636137\n"
     ]
    }
   ],
   "source": [
    "clf4 = xgb.XGBClassifier(eta = 0.4, colsample_bytree = 0.409, gamma = 1.43, max_depth = 18, min_child_weight = 4, \n",
    "                        n_estimators = 400, reg_alpha = 3.08, reg_lambda = 0.368, \n",
    "                        colsample_bylevel = 0.483, max_delta_step = 1, scale_pos_weight = 0.7, subsample = 0.89, \n",
    "                        objective = 'multi:softmax')\n",
    "\n",
    "clf4.fit(x_train_watch_gyro, y_train_watch_gyro)\n",
    "\n",
    "y_train_pred = clf4.predict(x_train_watch_gyro)\n",
    "y_test_pred = clf4.predict(x_test_watch_gyro)\n",
    "\n",
    "train_acc = accuracy_score(y_train_watch_gyro, y_train_pred)\n",
    "test_acc = accuracy_score(y_test_watch_gyro, y_test_pred)\n",
    "\n",
    "print(\"Train accuracy: \", train_acc)\n",
    "print(\"Test accuracy: \", test_acc)\n",
    "\n",
    "print_metrics(y_test_watch_gyro, y_test_pred)"
   ]
  },
  {
   "cell_type": "code",
   "execution_count": 21,
   "metadata": {},
   "outputs": [
    {
     "data": {
      "text/plain": [
       "Text(0.5, 1.0, 'Watch Gyroscope')"
      ]
     },
     "execution_count": 21,
     "metadata": {},
     "output_type": "execute_result"
    },
    {
     "data": {
      "image/png": "[encoded data removed]",
      "text/plain": [
       "<Figure size 864x432 with 1 Axes>"
      ]
     },
     "metadata": {},
     "output_type": "display_data"
    }
   ],
   "source": [
    "##Plot of top 10 important features\n",
    "\n",
    "importance = clf4.feature_importances_\n",
    "\n",
    "idx = np.argsort(importance)[::-1]\n",
    "\n",
    "#importance[idx]\n",
    "\n",
    "column_names = watch_gyro_df.columns\n",
    "column_names = column_names[1:]\n",
    "\n",
    "#sns.set(rc={\"figure.figsize\":(12, 6)}) \n",
    "\n",
    "sns.barplot(x = column_names[idx][0:10], y = importance[idx][0:10])\n",
    "\n",
    "plt.title(\"Watch Gyroscope\")"
   ]
  },
  {
   "cell_type": "code",
   "execution_count": 89,
   "metadata": {},
   "outputs": [
    {
     "name": "stdout",
     "output_type": "stream",
     "text": [
      "[21:09:32] WARNING: C:/Users/Administrator/workspace/xgboost-win64_release_1.5.1/src/learner.cc:576: \n",
      "Parameters: { \"scale_pos_weight\" } might not be used.\n",
      "\n",
      "  This could be a false alarm, with some parameters getting used by language bindings but\n",
      "  then being mistakenly passed down to XGBoost core, or some parameter actually being used\n",
      "  but getting flagged wrongly here. Please open an issue if you find any such cases.\n",
      "\n",
      "\n",
      "[21:09:32] WARNING: C:/Users/Administrator/workspace/xgboost-win64_release_1.5.1/src/learner.cc:1115: Starting in XGBoost 1.3.0, the default evaluation metric used with the objective 'multi:softprob' was changed from 'merror' to 'mlogloss'. Explicitly set eval_metric if you'd like to restore the old behavior.\n",
      "Train accuracy:  0.996912075410369\n",
      "Test accuracy:  0.9126760563380282\n",
      "Precision:\n",
      "average = Nonen:  [0.92723632 0.90855615 0.90136327]\n",
      "average = micro:  0.9126760563380282\n",
      "average = macro:  0.9123852455572828\n",
      "average = weighted:  0.9127557774552941\n",
      "Recall:\n",
      "average = Nonen:  [0.91683168 0.91344086 0.90645161]\n",
      "average = micro:  0.9126760563380282\n",
      "average = macro:  0.9122413854288656\n",
      "average = weighted:  0.9126760563380282\n",
      "F1 Score:\n",
      "average = Nonen:  [0.92200465 0.91099196 0.90390028]\n",
      "average = micro:  0.9126760563380282\n",
      "average = macro:  0.9122989616999547\n",
      "average = weighted:  0.9127017180335589\n"
     ]
    }
   ],
   "source": [
    "clf5 = xgb.XGBClassifier(eta = 0.4, colsample_bytree = 0.409, gamma = 1.43, max_depth = 18, min_child_weight = 4, \n",
    "                        n_estimators = 400, reg_alpha = 3.08, reg_lambda = 0.368, \n",
    "                        colsample_bylevel = 0.483, max_delta_step = 1, scale_pos_weight = 0.7, subsample = 0.89, \n",
    "                        objective = 'multi:softmax')\n",
    "\n",
    "clf5.fit(x_train_phone_accel_pca, y_train_phone_accel)\n",
    "\n",
    "y_train_pred = clf5.predict(x_train_phone_accel_pca)\n",
    "y_test_pred = clf5.predict(x_test_phone_accel_pca)\n",
    "\n",
    "train_acc = accuracy_score(y_train_phone_accel, y_train_pred)\n",
    "test_acc = accuracy_score(y_test_phone_accel, y_test_pred)\n",
    "\n",
    "print(\"Train accuracy: \", train_acc)\n",
    "print(\"Test accuracy: \", test_acc)\n",
    "\n",
    "print_metrics(y_test_phone_accel, y_test_pred)"
   ]
  },
  {
   "cell_type": "code",
   "execution_count": 90,
   "metadata": {},
   "outputs": [
    {
     "name": "stdout",
     "output_type": "stream",
     "text": [
      "[21:10:08] WARNING: C:/Users/Administrator/workspace/xgboost-win64_release_1.5.1/src/learner.cc:576: \n",
      "Parameters: { \"scale_pos_weight\" } might not be used.\n",
      "\n",
      "  This could be a false alarm, with some parameters getting used by language bindings but\n",
      "  then being mistakenly passed down to XGBoost core, or some parameter actually being used\n",
      "  but getting flagged wrongly here. Please open an issue if you find any such cases.\n",
      "\n",
      "\n",
      "[21:10:08] WARNING: C:/Users/Administrator/workspace/xgboost-win64_release_1.5.1/src/learner.cc:1115: Starting in XGBoost 1.3.0, the default evaluation metric used with the objective 'multi:softprob' was changed from 'merror' to 'mlogloss'. Explicitly set eval_metric if you'd like to restore the old behavior.\n",
      "Train accuracy:  0.9942853009259259\n",
      "Test accuracy:  0.747758171825282\n",
      "Precision:\n",
      "average = Nonen:  [0.84080076 0.73509934 0.67111535]\n",
      "average = micro:  0.747758171825282\n",
      "average = macro:  0.7490051494432834\n",
      "average = weighted:  0.7540441819312903\n",
      "Recall:\n",
      "average = Nonen:  [0.74242424 0.75112782 0.74973376]\n",
      "average = micro:  0.747758171825282\n",
      "average = macro:  0.7477619404305128\n",
      "average = weighted:  0.747758171825282\n",
      "F1 Score:\n",
      "average = Nonen:  [0.7885561  0.74302715 0.7082495 ]\n",
      "average = micro:  0.747758171825282\n",
      "average = macro:  0.7466109155142119\n",
      "average = weighted:  0.7492267958081663\n"
     ]
    }
   ],
   "source": [
    "clf6 = xgb.XGBClassifier(eta = 0.4, colsample_bytree = 0.409, gamma = 1.43, max_depth = 18, min_child_weight = 4, \n",
    "                        n_estimators = 400, reg_alpha = 3.08, reg_lambda = 0.368, \n",
    "                        colsample_bylevel = 0.483, max_delta_step = 1, scale_pos_weight = 0.7, subsample = 0.89, \n",
    "                        objective = 'multi:softmax')\n",
    "\n",
    "clf6.fit(x_train_phone_gyro_pca, y_train_phone_gyro)\n",
    "\n",
    "y_train_pred = clf6.predict(x_train_phone_gyro_pca)\n",
    "y_test_pred = clf6.predict(x_test_phone_gyro_pca)\n",
    "\n",
    "train_acc = accuracy_score(y_train_phone_gyro, y_train_pred)\n",
    "test_acc = accuracy_score(y_test_phone_gyro, y_test_pred)\n",
    "\n",
    "print(\"Train accuracy: \", train_acc)\n",
    "print(\"Test accuracy: \", test_acc)\n",
    "\n",
    "print_metrics(y_test_phone_gyro, y_test_pred)"
   ]
  },
  {
   "cell_type": "code",
   "execution_count": 91,
   "metadata": {},
   "outputs": [
    {
     "name": "stdout",
     "output_type": "stream",
     "text": [
      "[21:10:40] WARNING: C:/Users/Administrator/workspace/xgboost-win64_release_1.5.1/src/learner.cc:576: \n",
      "Parameters: { \"scale_pos_weight\" } might not be used.\n",
      "\n",
      "  This could be a false alarm, with some parameters getting used by language bindings but\n",
      "  then being mistakenly passed down to XGBoost core, or some parameter actually being used\n",
      "  but getting flagged wrongly here. Please open an issue if you find any such cases.\n",
      "\n",
      "\n",
      "[21:10:40] WARNING: C:/Users/Administrator/workspace/xgboost-win64_release_1.5.1/src/learner.cc:1115: Starting in XGBoost 1.3.0, the default evaluation metric used with the objective 'multi:softprob' was changed from 'merror' to 'mlogloss'. Explicitly set eval_metric if you'd like to restore the old behavior.\n",
      "Train accuracy:  0.9951949478308622\n",
      "Test accuracy:  0.9346692286576997\n",
      "Precision:\n",
      "average = Nonen:  [0.9474606  0.93038822 0.9265144 ]\n",
      "average = micro:  0.9346692286576997\n",
      "average = macro:  0.9347877380656641\n",
      "average = weighted:  0.9348596373960454\n",
      "Recall:\n",
      "average = Nonen:  [0.91772689 0.94365241 0.94147326]\n",
      "average = micro:  0.9346692286576997\n",
      "average = macro:  0.9342841855246881\n",
      "average = weighted:  0.9346692286576997\n",
      "F1 Score:\n",
      "average = Nonen:  [0.93235674 0.93697337 0.93393393]\n",
      "average = micro:  0.9346692286576997\n",
      "average = macro:  0.934421350165148\n",
      "average = weighted:  0.9346524589199418\n"
     ]
    }
   ],
   "source": [
    "clf7 = xgb.XGBClassifier(eta = 0.4, colsample_bytree = 0.409, gamma = 1.43, max_depth = 18, min_child_weight = 4, \n",
    "                        n_estimators = 400, reg_alpha = 3.08, reg_lambda = 0.368, \n",
    "                        colsample_bylevel = 0.483, max_delta_step = 1, scale_pos_weight = 0.7, subsample = 0.89, \n",
    "                        objective = 'multi:softmax')\n",
    "\n",
    "clf7.fit(x_train_watch_accel_pca, y_train_watch_accel)\n",
    "\n",
    "y_train_pred = clf7.predict(x_train_watch_accel_pca)\n",
    "y_test_pred = clf7.predict(x_test_watch_accel_pca)\n",
    "\n",
    "train_acc = accuracy_score(y_train_watch_accel, y_train_pred)\n",
    "test_acc = accuracy_score(y_test_watch_accel, y_test_pred)\n",
    "\n",
    "print(\"Train accuracy: \", train_acc)\n",
    "print(\"Test accuracy: \", test_acc)\n",
    "\n",
    "print_metrics(y_test_watch_accel, y_test_pred)"
   ]
  },
  {
   "cell_type": "code",
   "execution_count": 92,
   "metadata": {},
   "outputs": [
    {
     "name": "stdout",
     "output_type": "stream",
     "text": [
      "[21:11:06] WARNING: C:/Users/Administrator/workspace/xgboost-win64_release_1.5.1/src/learner.cc:576: \n",
      "Parameters: { \"scale_pos_weight\" } might not be used.\n",
      "\n",
      "  This could be a false alarm, with some parameters getting used by language bindings but\n",
      "  then being mistakenly passed down to XGBoost core, or some parameter actually being used\n",
      "  but getting flagged wrongly here. Please open an issue if you find any such cases.\n",
      "\n",
      "\n",
      "[21:11:06] WARNING: C:/Users/Administrator/workspace/xgboost-win64_release_1.5.1/src/learner.cc:1115: Starting in XGBoost 1.3.0, the default evaluation metric used with the objective 'multi:softprob' was changed from 'merror' to 'mlogloss'. Explicitly set eval_metric if you'd like to restore the old behavior.\n",
      "Train accuracy:  0.9927415696355663\n",
      "Test accuracy:  0.8693680072573329\n",
      "Precision:\n",
      "average = Nonen:  [0.86206897 0.87771943 0.8655914 ]\n",
      "average = micro:  0.8693680072573329\n",
      "average = macro:  0.8684599310747227\n",
      "average = weighted:  0.8692003597961104\n",
      "Recall:\n",
      "average = Nonen:  [0.83798883 0.90277778 0.85912487]\n",
      "average = micro:  0.8693680072573329\n",
      "average = macro:  0.8666304903963127\n",
      "average = weighted:  0.8693680072573329\n",
      "F1 Score:\n",
      "average = Nonen:  [0.84985836 0.89007227 0.86234601]\n",
      "average = micro:  0.8693680072573329\n",
      "average = macro:  0.8674255458023513\n",
      "average = weighted:  0.8691562592614397\n"
     ]
    }
   ],
   "source": [
    "clf8 = xgb.XGBClassifier(eta = 0.4, colsample_bytree = 0.409, gamma = 1.43, max_depth = 18, min_child_weight = 4, \n",
    "                        n_estimators = 400, reg_alpha = 3.08, reg_lambda = 0.368, \n",
    "                        colsample_bylevel = 0.483, max_delta_step = 1, scale_pos_weight = 0.7, subsample = 0.89, \n",
    "                        objective = 'multi:softmax')\n",
    "\n",
    "clf8.fit(x_train_watch_gyro_pca, y_train_watch_gyro)\n",
    "\n",
    "y_train_pred = clf8.predict(x_train_watch_gyro_pca)\n",
    "y_test_pred = clf8.predict(x_test_watch_gyro_pca)\n",
    "\n",
    "train_acc = accuracy_score(y_train_watch_gyro, y_train_pred)\n",
    "test_acc = accuracy_score(y_test_watch_gyro, y_test_pred)\n",
    "\n",
    "print(\"Train accuracy: \", train_acc)\n",
    "print(\"Test accuracy: \", test_acc)\n",
    "\n",
    "print_metrics(y_test_watch_gyro, y_test_pred)"
   ]
  }
 ],
 "metadata": {
  "kernelspec": {
   "display_name": "Python 3",
   "language": "python",
   "name": "python3"
  },
  "language_info": {
   "codemirror_mode": {
    "name": "ipython",
    "version": 3
   },
   "file_extension": ".py",
   "mimetype": "text/x-python",
   "name": "python",
   "nbconvert_exporter": "python",
   "pygments_lexer": "ipython3",
   "version": "3.8.5"
  }
 },
 "nbformat": 4,
 "nbformat_minor": 4
}
